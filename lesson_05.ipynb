{
 "cells": [
  {
   "cell_type": "code",
   "execution_count": 70,
   "id": "psychological-clinton",
   "metadata": {},
   "outputs": [],
   "source": [
    "import pandas as pd\n",
    "import numpy as np\n",
    "from sklearn.pipeline import Pipeline, make_pipeline\n",
    "from sklearn.base import BaseEstimator, TransformerMixin\n",
    "from sklearn.linear_model import LogisticRegression\n",
    "from sklearn.model_selection import train_test_split, cross_val_score\n",
    "#from sklearn.feature_extraction.text import TfidfVectorizer\n",
    "import itertools\n",
    "\n",
    "from sklearn.metrics import f1_score, roc_auc_score, precision_score, classification_report, precision_recall_curve, confusion_matrix\n",
    "\n",
    "from lightgbm import LGBMClassifier\n",
    "from catboost import CatBoostClassifier\n",
    "from xgboost import XGBClassifier\n",
    "\n",
    "from sklearn.ensemble import RandomForestClassifier\n",
    "\n",
    "from sklearn.preprocessing import StandardScaler\n",
    "from sklearn.preprocessing import OneHotEncoder\n",
    "\n",
    "from sklearn.pipeline import Pipeline, make_pipeline\n",
    "from sklearn.pipeline import FeatureUnion\n",
    "\n",
    "import matplotlib.pyplot as plt\n",
    "\n",
    "from sklearn.model_selection import GridSearchCV\n",
    "\n",
    "%matplotlib inline"
   ]
  },
  {
   "cell_type": "code",
   "execution_count": 2,
   "id": "center-collection",
   "metadata": {},
   "outputs": [],
   "source": [
    "class ColumnSelector(BaseEstimator, TransformerMixin):\n",
    "    \"\"\"\n",
    "    Transformer to select a single column from the data frame to perform additional transformations on\n",
    "    \"\"\"\n",
    "    def __init__(self, key):\n",
    "        self.key = key\n",
    "\n",
    "    def fit(self, X, y=None):\n",
    "        return self\n",
    "\n",
    "    def transform(self, X):\n",
    "        return X[self.key]\n",
    "    \n",
    "class NumberSelector(BaseEstimator, TransformerMixin):\n",
    "    \"\"\"\n",
    "    Transformer to select a single column from the data frame to perform additional transformations on\n",
    "    Use on numeric columns in the data\n",
    "    \"\"\"\n",
    "    def __init__(self, key):\n",
    "        self.key = key\n",
    "\n",
    "    def fit(self, X, y=None):\n",
    "        return self\n",
    "\n",
    "    def transform(self, X):\n",
    "        return X[[self.key]]\n",
    "    \n",
    "class OHEEncoder(BaseEstimator, TransformerMixin):\n",
    "    def __init__(self, key):\n",
    "        self.key = key\n",
    "        self.columns = []\n",
    "\n",
    "    def fit(self, X, y=None):\n",
    "        self.columns = [col for col in pd.get_dummies(X, prefix=self.key).columns]\n",
    "        return self\n",
    "\n",
    "    def transform(self, X):\n",
    "        X = pd.get_dummies(X, prefix=self.key)\n",
    "        test_columns = [col for col in X.columns]\n",
    "        for col_ in test_columns:\n",
    "            if col_ not in self.columns:\n",
    "                X[col_] = 0\n",
    "        return X[self.columns]"
   ]
  },
  {
   "cell_type": "code",
   "execution_count": 41,
   "id": "pointed-amateur",
   "metadata": {},
   "outputs": [],
   "source": [
    "def plot_confusion_matrix(cm, classes,\n",
    "                          normalize=False,\n",
    "                          title='Confusion matrix',\n",
    "                          cmap=plt.cm.Blues):\n",
    "    \"\"\"\n",
    "    This function prints and plots the confusion matrix.\n",
    "    Normalization can be applied by setting `normalize=True`.\n",
    "    \"\"\"\n",
    "    plt.imshow(cm, interpolation='nearest', cmap=cmap)\n",
    "    plt.title(title)\n",
    "    plt.colorbar()\n",
    "    tick_marks = np.arange(len(classes))\n",
    "    plt.xticks(tick_marks, classes, rotation=45)\n",
    "    plt.yticks(tick_marks, classes)\n",
    "\n",
    "    if normalize:\n",
    "        cm = cm.astype('float') / cm.sum(axis=1)[:, np.newaxis]\n",
    "        print(\"Normalized confusion matrix\")\n",
    "    else:\n",
    "        print('Confusion matrix, without normalization')\n",
    "\n",
    "    print(cm)\n",
    "\n",
    "    thresh = cm.max() / 2.\n",
    "    for i, j in itertools.product(range(cm.shape[0]), range(cm.shape[1])):\n",
    "        plt.text(j, i, cm[i, j],\n",
    "                 horizontalalignment=\"center\",\n",
    "                 color=\"white\" if cm[i, j] > thresh else \"black\")\n",
    "\n",
    "    plt.tight_layout()\n",
    "    plt.ylabel('True label')\n",
    "    plt.xlabel('Predicted label')"
   ]
  },
  {
   "cell_type": "code",
   "execution_count": 3,
   "id": "collected-composer",
   "metadata": {},
   "outputs": [],
   "source": [
    "df = pd.read_csv('churn_data.csv')"
   ]
  },
  {
   "cell_type": "code",
   "execution_count": 4,
   "id": "horizontal-extent",
   "metadata": {},
   "outputs": [
    {
     "data": {
      "text/html": [
       "<div>\n",
       "<style scoped>\n",
       "    .dataframe tbody tr th:only-of-type {\n",
       "        vertical-align: middle;\n",
       "    }\n",
       "\n",
       "    .dataframe tbody tr th {\n",
       "        vertical-align: top;\n",
       "    }\n",
       "\n",
       "    .dataframe thead th {\n",
       "        text-align: right;\n",
       "    }\n",
       "</style>\n",
       "<table border=\"1\" class=\"dataframe\">\n",
       "  <thead>\n",
       "    <tr style=\"text-align: right;\">\n",
       "      <th></th>\n",
       "      <th>RowNumber</th>\n",
       "      <th>CustomerId</th>\n",
       "      <th>Surname</th>\n",
       "      <th>CreditScore</th>\n",
       "      <th>Geography</th>\n",
       "      <th>Gender</th>\n",
       "      <th>Age</th>\n",
       "      <th>Tenure</th>\n",
       "      <th>Balance</th>\n",
       "      <th>NumOfProducts</th>\n",
       "      <th>HasCrCard</th>\n",
       "      <th>IsActiveMember</th>\n",
       "      <th>EstimatedSalary</th>\n",
       "      <th>Exited</th>\n",
       "    </tr>\n",
       "  </thead>\n",
       "  <tbody>\n",
       "    <tr>\n",
       "      <th>0</th>\n",
       "      <td>1</td>\n",
       "      <td>15634602</td>\n",
       "      <td>Hargrave</td>\n",
       "      <td>619</td>\n",
       "      <td>France</td>\n",
       "      <td>Female</td>\n",
       "      <td>42</td>\n",
       "      <td>2</td>\n",
       "      <td>0.00</td>\n",
       "      <td>1</td>\n",
       "      <td>1</td>\n",
       "      <td>1</td>\n",
       "      <td>101348.88</td>\n",
       "      <td>1</td>\n",
       "    </tr>\n",
       "    <tr>\n",
       "      <th>1</th>\n",
       "      <td>2</td>\n",
       "      <td>15647311</td>\n",
       "      <td>Hill</td>\n",
       "      <td>608</td>\n",
       "      <td>Spain</td>\n",
       "      <td>Female</td>\n",
       "      <td>41</td>\n",
       "      <td>1</td>\n",
       "      <td>83807.86</td>\n",
       "      <td>1</td>\n",
       "      <td>0</td>\n",
       "      <td>1</td>\n",
       "      <td>112542.58</td>\n",
       "      <td>0</td>\n",
       "    </tr>\n",
       "    <tr>\n",
       "      <th>2</th>\n",
       "      <td>3</td>\n",
       "      <td>15619304</td>\n",
       "      <td>Onio</td>\n",
       "      <td>502</td>\n",
       "      <td>France</td>\n",
       "      <td>Female</td>\n",
       "      <td>42</td>\n",
       "      <td>8</td>\n",
       "      <td>159660.80</td>\n",
       "      <td>3</td>\n",
       "      <td>1</td>\n",
       "      <td>0</td>\n",
       "      <td>113931.57</td>\n",
       "      <td>1</td>\n",
       "    </tr>\n",
       "    <tr>\n",
       "      <th>3</th>\n",
       "      <td>4</td>\n",
       "      <td>15701354</td>\n",
       "      <td>Boni</td>\n",
       "      <td>699</td>\n",
       "      <td>France</td>\n",
       "      <td>Female</td>\n",
       "      <td>39</td>\n",
       "      <td>1</td>\n",
       "      <td>0.00</td>\n",
       "      <td>2</td>\n",
       "      <td>0</td>\n",
       "      <td>0</td>\n",
       "      <td>93826.63</td>\n",
       "      <td>0</td>\n",
       "    </tr>\n",
       "    <tr>\n",
       "      <th>4</th>\n",
       "      <td>5</td>\n",
       "      <td>15737888</td>\n",
       "      <td>Mitchell</td>\n",
       "      <td>850</td>\n",
       "      <td>Spain</td>\n",
       "      <td>Female</td>\n",
       "      <td>43</td>\n",
       "      <td>2</td>\n",
       "      <td>125510.82</td>\n",
       "      <td>1</td>\n",
       "      <td>1</td>\n",
       "      <td>1</td>\n",
       "      <td>79084.10</td>\n",
       "      <td>0</td>\n",
       "    </tr>\n",
       "  </tbody>\n",
       "</table>\n",
       "</div>"
      ],
      "text/plain": [
       "   RowNumber  CustomerId   Surname  CreditScore Geography  Gender  Age  \\\n",
       "0          1    15634602  Hargrave          619    France  Female   42   \n",
       "1          2    15647311      Hill          608     Spain  Female   41   \n",
       "2          3    15619304      Onio          502    France  Female   42   \n",
       "3          4    15701354      Boni          699    France  Female   39   \n",
       "4          5    15737888  Mitchell          850     Spain  Female   43   \n",
       "\n",
       "   Tenure    Balance  NumOfProducts  HasCrCard  IsActiveMember  \\\n",
       "0       2       0.00              1          1               1   \n",
       "1       1   83807.86              1          0               1   \n",
       "2       8  159660.80              3          1               0   \n",
       "3       1       0.00              2          0               0   \n",
       "4       2  125510.82              1          1               1   \n",
       "\n",
       "   EstimatedSalary  Exited  \n",
       "0        101348.88       1  \n",
       "1        112542.58       0  \n",
       "2        113931.57       1  \n",
       "3         93826.63       0  \n",
       "4         79084.10       0  "
      ]
     },
     "execution_count": 4,
     "metadata": {},
     "output_type": "execute_result"
    }
   ],
   "source": [
    "df.head()"
   ]
  },
  {
   "cell_type": "code",
   "execution_count": 5,
   "id": "funded-platinum",
   "metadata": {},
   "outputs": [
    {
     "name": "stdout",
     "output_type": "stream",
     "text": [
      "<class 'pandas.core.frame.DataFrame'>\n",
      "RangeIndex: 10000 entries, 0 to 9999\n",
      "Data columns (total 14 columns):\n",
      " #   Column           Non-Null Count  Dtype  \n",
      "---  ------           --------------  -----  \n",
      " 0   RowNumber        10000 non-null  int64  \n",
      " 1   CustomerId       10000 non-null  int64  \n",
      " 2   Surname          10000 non-null  object \n",
      " 3   CreditScore      10000 non-null  int64  \n",
      " 4   Geography        10000 non-null  object \n",
      " 5   Gender           10000 non-null  object \n",
      " 6   Age              10000 non-null  int64  \n",
      " 7   Tenure           10000 non-null  int64  \n",
      " 8   Balance          10000 non-null  float64\n",
      " 9   NumOfProducts    10000 non-null  int64  \n",
      " 10  HasCrCard        10000 non-null  int64  \n",
      " 11  IsActiveMember   10000 non-null  int64  \n",
      " 12  EstimatedSalary  10000 non-null  float64\n",
      " 13  Exited           10000 non-null  int64  \n",
      "dtypes: float64(2), int64(9), object(3)\n",
      "memory usage: 1.1+ MB\n"
     ]
    }
   ],
   "source": [
    "df.info()"
   ]
  },
  {
   "cell_type": "code",
   "execution_count": 6,
   "id": "differential-introduction",
   "metadata": {},
   "outputs": [],
   "source": [
    "df = df.drop(columns=['RowNumber'], axis=1)"
   ]
  },
  {
   "cell_type": "code",
   "execution_count": 7,
   "id": "necessary-perth",
   "metadata": {},
   "outputs": [
    {
     "name": "stdout",
     "output_type": "stream",
     "text": [
      "count of numeric_features 9\n"
     ]
    },
    {
     "data": {
      "text/plain": [
       "['CreditScore',\n",
       " 'Age',\n",
       " 'Tenure',\n",
       " 'Balance',\n",
       " 'NumOfProducts',\n",
       " 'HasCrCard',\n",
       " 'IsActiveMember',\n",
       " 'EstimatedSalary']"
      ]
     },
     "execution_count": 7,
     "metadata": {},
     "output_type": "execute_result"
    }
   ],
   "source": [
    "continuous_columns = df.select_dtypes(include=[np.number]).drop('Exited',1)\n",
    "print(f\"count of numeric_features {continuous_columns.shape[1]}\")\n",
    "continuous_columns = continuous_columns.columns.to_list()\n",
    "continuous_columns = continuous_columns[1:]\n",
    "continuous_columns"
   ]
  },
  {
   "cell_type": "code",
   "execution_count": 8,
   "id": "everyday-prospect",
   "metadata": {},
   "outputs": [
    {
     "data": {
      "text/plain": [
       "['Geography',\n",
       " 'Gender',\n",
       " 'Tenure',\n",
       " 'NumOfProducts',\n",
       " 'HasCrCard',\n",
       " 'IsActiveMember']"
      ]
     },
     "execution_count": 8,
     "metadata": {},
     "output_type": "execute_result"
    }
   ],
   "source": [
    "cat_feature_num = [\n",
    "    feature for feature in continuous_columns\n",
    "    if len(df[feature].unique())<20\n",
    "]\n",
    "categorical_columns = df.select_dtypes(include=[np.object]).columns.to_list()\n",
    "categorical_columns = list(categorical_columns + cat_feature_num)\n",
    "categorical_columns = categorical_columns[1:]\n",
    "categorical_columns"
   ]
  },
  {
   "cell_type": "code",
   "execution_count": null,
   "id": "white-humor",
   "metadata": {},
   "outputs": [],
   "source": []
  },
  {
   "cell_type": "code",
   "execution_count": 9,
   "id": "grave-bumper",
   "metadata": {},
   "outputs": [
    {
     "data": {
      "text/plain": [
       "['Age', 'EstimatedSalary', 'Balance', 'CreditScore']"
      ]
     },
     "execution_count": 9,
     "metadata": {},
     "output_type": "execute_result"
    }
   ],
   "source": [
    "continuous_columns = list(set(continuous_columns) - set(categorical_columns))\n",
    "continuous_columns"
   ]
  },
  {
   "cell_type": "code",
   "execution_count": 10,
   "id": "forbidden-economics",
   "metadata": {},
   "outputs": [],
   "source": [
    "final_transformers = list()\n",
    "\n",
    "for cont_col in continuous_columns:\n",
    "    transfomer =  Pipeline([\n",
    "                ('selector', NumberSelector(key=cont_col)),\n",
    "                ('standard', StandardScaler())\n",
    "            ])\n",
    "    final_transformers.append((cont_col, transfomer))\n",
    "    \n",
    "for cat_col in categorical_columns:\n",
    "    cat_transformer = Pipeline([\n",
    "                ('selector', ColumnSelector(key=cat_col)),\n",
    "                ('ohe', OHEEncoder(key=cat_col))\n",
    "            ])\n",
    "    final_transformers.append((cat_col, cat_transformer))"
   ]
  },
  {
   "cell_type": "code",
   "execution_count": null,
   "id": "absent-sussex",
   "metadata": {},
   "outputs": [],
   "source": []
  },
  {
   "cell_type": "code",
   "execution_count": null,
   "id": "persistent-organizer",
   "metadata": {},
   "outputs": [],
   "source": []
  },
  {
   "cell_type": "code",
   "execution_count": null,
   "id": "patent-raise",
   "metadata": {},
   "outputs": [],
   "source": []
  },
  {
   "cell_type": "code",
   "execution_count": 11,
   "id": "characteristic-camera",
   "metadata": {},
   "outputs": [],
   "source": [
    "X_train, X_test, y_train, y_test = train_test_split(df.drop('Exited', 1), \n",
    "                                                    df['Exited'], random_state=0)"
   ]
  },
  {
   "cell_type": "code",
   "execution_count": 12,
   "id": "assigned-comparative",
   "metadata": {},
   "outputs": [],
   "source": [
    "feats = FeatureUnion(final_transformers)\n",
    "\n",
    "feature_processing = Pipeline([('feats', feats)])"
   ]
  },
  {
   "cell_type": "code",
   "execution_count": null,
   "id": "cleared-hormone",
   "metadata": {},
   "outputs": [],
   "source": []
  },
  {
   "cell_type": "code",
   "execution_count": 13,
   "id": "occasional-beast",
   "metadata": {},
   "outputs": [],
   "source": [
    "result = []"
   ]
  },
  {
   "cell_type": "markdown",
   "id": "experimental-order",
   "metadata": {},
   "source": [
    "### 1. Для нашего пайплайна (Case1) поэкспериментировать с разными моделями: 1 - бустинг, 2 - логистическая регрессия (не забудьте здесь добавить в cont_transformer стандартизацию - нормирование вещественных признаков)"
   ]
  },
  {
   "cell_type": "markdown",
   "id": "generic-things",
   "metadata": {},
   "source": [
    "Log_reg"
   ]
  },
  {
   "cell_type": "code",
   "execution_count": 22,
   "id": "universal-therapy",
   "metadata": {},
   "outputs": [
    {
     "name": "stdout",
     "output_type": "stream",
     "text": [
      "CV score is 0.8302294837919904+-0.01810443335415567\n"
     ]
    }
   ],
   "source": [
    "pipeline = Pipeline([\n",
    "    ('features',feats),\n",
    "    ('classifier', LogisticRegression(random_state = 42)),\n",
    "])\n",
    "\n",
    "\n",
    "#запустим кросс-валидацию\n",
    "cv_scores = cross_val_score(pipeline, X_train, y_train, cv=10 ,scoring='roc_auc')\n",
    "cv_score = np.mean(cv_scores)\n",
    "cv_score_std = np.std(cv_scores)\n",
    "print('CV score is {}+-{}'.format(cv_score, cv_score_std))\n",
    "\n",
    "#обучим пайплайн на всем тренировочном датасете\n",
    "pipeline.fit(X_train, y_train)\n",
    "y_score = pipeline.predict_proba(X_test)[:, 1]"
   ]
  },
  {
   "cell_type": "code",
   "execution_count": 23,
   "id": "blank-manufacturer",
   "metadata": {},
   "outputs": [
    {
     "name": "stdout",
     "output_type": "stream",
     "text": [
      "Best Threshold=0.310532, F-Score=0.586, Precision=0.529, Recall=0.656\n"
     ]
    }
   ],
   "source": [
    "precision, recall, thresholds = precision_recall_curve(y_test, y_score)\n",
    "\n",
    "\n",
    "fscore = (2 * precision * recall) / (precision + recall)\n",
    "# locate the index of the largest f score\n",
    "ix = np.argmax(fscore)\n",
    "print('Best Threshold=%f, F-Score=%.3f, Precision=%.3f, Recall=%.3f' % (thresholds[ix], \n",
    "                                                                        fscore[ix],\n",
    "                                                                        precision[ix],\n",
    "                                                                        recall[ix]))\n",
    "\n",
    "log_reg = roc_auc_score(y_test, y_score)\n",
    "\n",
    "result.append({\"method\":\"log_reg\",\"roc_auc\" : log_reg, \"fscore\" : fscore[ix],\n",
    "               \"precision\" : precision[ix], \"recall\" : recall[ix],\n",
    "               \"cv_score\" : cv_score, \"cv_score_std\" : cv_score_std\n",
    "              })"
   ]
  },
  {
   "cell_type": "markdown",
   "id": "alike-experience",
   "metadata": {},
   "source": [
    "Random_forest"
   ]
  },
  {
   "cell_type": "code",
   "execution_count": 26,
   "id": "measured-pharmacy",
   "metadata": {},
   "outputs": [
    {
     "name": "stdout",
     "output_type": "stream",
     "text": [
      "CV score is 0.8476459168308782+-0.014365541190265774\n"
     ]
    }
   ],
   "source": [
    "classifier = Pipeline([\n",
    "    ('features',feats),\n",
    "    ('classifier', RandomForestClassifier(random_state = 42, n_jobs=-1)),\n",
    "])\n",
    "\n",
    "\n",
    "#запустим кросс-валидацию\n",
    "cv_scores = cross_val_score(classifier, X_train, y_train, cv=10, scoring='roc_auc')\n",
    "cv_score = np.mean(cv_scores)\n",
    "cv_score_std = np.std(cv_scores)\n",
    "print('CV score is {}+-{}'.format(cv_score, cv_score_std))\n",
    "\n",
    "#обучим пайплайн на всем тренировочном датасете\n",
    "classifier.fit(X_train, y_train)\n",
    "y_score = classifier.predict_proba(X_test)[:, 1]"
   ]
  },
  {
   "cell_type": "code",
   "execution_count": 27,
   "id": "parliamentary-assurance",
   "metadata": {},
   "outputs": [
    {
     "name": "stdout",
     "output_type": "stream",
     "text": [
      "Best Threshold=0.360000, F-Score=0.638, Precision=0.615, Recall=0.662\n"
     ]
    }
   ],
   "source": [
    "precision, recall, thresholds = precision_recall_curve(y_test, y_score)\n",
    "\n",
    "\n",
    "fscore = (2 * precision * recall) / (precision + recall)\n",
    "# locate the index of the largest f score\n",
    "ix = np.argmax(fscore)\n",
    "print('Best Threshold=%f, F-Score=%.3f, Precision=%.3f, Recall=%.3f' % (thresholds[ix], \n",
    "                                                                        fscore[ix],\n",
    "                                                                        precision[ix],\n",
    "                                                                        recall[ix]))\n",
    "\n",
    "RandomForestClassifier = roc_auc_score(y_test, y_score)\n",
    "\n",
    "result.append({\"method\":\"RandomForest\",\"roc_auc\" : RandomForestClassifier, \"fscore\" : fscore[ix],\n",
    "               \"precision\" : precision[ix], \"recall\" : recall[ix],\n",
    "               \"cv_score\" : cv_score, \"cv_score_std\" : cv_score_std})"
   ]
  },
  {
   "cell_type": "markdown",
   "id": "upper-support",
   "metadata": {},
   "source": [
    "Xgboost"
   ]
  },
  {
   "cell_type": "code",
   "execution_count": 28,
   "id": "adopted-reservoir",
   "metadata": {
    "tags": []
   },
   "outputs": [
    {
     "name": "stderr",
     "output_type": "stream",
     "text": [
      "/opt/conda/lib/python3.8/site-packages/xgboost/sklearn.py:888: UserWarning: The use of label encoder in XGBClassifier is deprecated and will be removed in a future release. To remove this warning, do the following: 1) Pass option use_label_encoder=False when constructing XGBClassifier object; and 2) Encode your labels (y) as integers starting with 0, i.e. 0, 1, 2, ..., [num_class - 1].\n",
      "  warnings.warn(label_encoder_deprecation_msg, UserWarning)\n"
     ]
    },
    {
     "name": "stdout",
     "output_type": "stream",
     "text": [
      "[16:11:00] WARNING: ../src/learner.cc:1061: Starting in XGBoost 1.3.0, the default evaluation metric used with the objective 'binary:logistic' was changed from 'error' to 'logloss'. Explicitly set eval_metric if you'd like to restore the old behavior.\n"
     ]
    },
    {
     "name": "stderr",
     "output_type": "stream",
     "text": [
      "/opt/conda/lib/python3.8/site-packages/xgboost/sklearn.py:888: UserWarning: The use of label encoder in XGBClassifier is deprecated and will be removed in a future release. To remove this warning, do the following: 1) Pass option use_label_encoder=False when constructing XGBClassifier object; and 2) Encode your labels (y) as integers starting with 0, i.e. 0, 1, 2, ..., [num_class - 1].\n",
      "  warnings.warn(label_encoder_deprecation_msg, UserWarning)\n"
     ]
    },
    {
     "name": "stdout",
     "output_type": "stream",
     "text": [
      "[16:11:01] WARNING: ../src/learner.cc:1061: Starting in XGBoost 1.3.0, the default evaluation metric used with the objective 'binary:logistic' was changed from 'error' to 'logloss'. Explicitly set eval_metric if you'd like to restore the old behavior.\n"
     ]
    },
    {
     "name": "stderr",
     "output_type": "stream",
     "text": [
      "/opt/conda/lib/python3.8/site-packages/xgboost/sklearn.py:888: UserWarning: The use of label encoder in XGBClassifier is deprecated and will be removed in a future release. To remove this warning, do the following: 1) Pass option use_label_encoder=False when constructing XGBClassifier object; and 2) Encode your labels (y) as integers starting with 0, i.e. 0, 1, 2, ..., [num_class - 1].\n",
      "  warnings.warn(label_encoder_deprecation_msg, UserWarning)\n"
     ]
    },
    {
     "name": "stdout",
     "output_type": "stream",
     "text": [
      "[16:11:02] WARNING: ../src/learner.cc:1061: Starting in XGBoost 1.3.0, the default evaluation metric used with the objective 'binary:logistic' was changed from 'error' to 'logloss'. Explicitly set eval_metric if you'd like to restore the old behavior.\n"
     ]
    },
    {
     "name": "stderr",
     "output_type": "stream",
     "text": [
      "/opt/conda/lib/python3.8/site-packages/xgboost/sklearn.py:888: UserWarning: The use of label encoder in XGBClassifier is deprecated and will be removed in a future release. To remove this warning, do the following: 1) Pass option use_label_encoder=False when constructing XGBClassifier object; and 2) Encode your labels (y) as integers starting with 0, i.e. 0, 1, 2, ..., [num_class - 1].\n",
      "  warnings.warn(label_encoder_deprecation_msg, UserWarning)\n"
     ]
    },
    {
     "name": "stdout",
     "output_type": "stream",
     "text": [
      "[16:11:03] WARNING: ../src/learner.cc:1061: Starting in XGBoost 1.3.0, the default evaluation metric used with the objective 'binary:logistic' was changed from 'error' to 'logloss'. Explicitly set eval_metric if you'd like to restore the old behavior.\n"
     ]
    },
    {
     "name": "stderr",
     "output_type": "stream",
     "text": [
      "/opt/conda/lib/python3.8/site-packages/xgboost/sklearn.py:888: UserWarning: The use of label encoder in XGBClassifier is deprecated and will be removed in a future release. To remove this warning, do the following: 1) Pass option use_label_encoder=False when constructing XGBClassifier object; and 2) Encode your labels (y) as integers starting with 0, i.e. 0, 1, 2, ..., [num_class - 1].\n",
      "  warnings.warn(label_encoder_deprecation_msg, UserWarning)\n"
     ]
    },
    {
     "name": "stdout",
     "output_type": "stream",
     "text": [
      "[16:11:04] WARNING: ../src/learner.cc:1061: Starting in XGBoost 1.3.0, the default evaluation metric used with the objective 'binary:logistic' was changed from 'error' to 'logloss'. Explicitly set eval_metric if you'd like to restore the old behavior.\n"
     ]
    },
    {
     "name": "stderr",
     "output_type": "stream",
     "text": [
      "/opt/conda/lib/python3.8/site-packages/xgboost/sklearn.py:888: UserWarning: The use of label encoder in XGBClassifier is deprecated and will be removed in a future release. To remove this warning, do the following: 1) Pass option use_label_encoder=False when constructing XGBClassifier object; and 2) Encode your labels (y) as integers starting with 0, i.e. 0, 1, 2, ..., [num_class - 1].\n",
      "  warnings.warn(label_encoder_deprecation_msg, UserWarning)\n"
     ]
    },
    {
     "name": "stdout",
     "output_type": "stream",
     "text": [
      "[16:11:05] WARNING: ../src/learner.cc:1061: Starting in XGBoost 1.3.0, the default evaluation metric used with the objective 'binary:logistic' was changed from 'error' to 'logloss'. Explicitly set eval_metric if you'd like to restore the old behavior.\n"
     ]
    },
    {
     "name": "stderr",
     "output_type": "stream",
     "text": [
      "/opt/conda/lib/python3.8/site-packages/xgboost/sklearn.py:888: UserWarning: The use of label encoder in XGBClassifier is deprecated and will be removed in a future release. To remove this warning, do the following: 1) Pass option use_label_encoder=False when constructing XGBClassifier object; and 2) Encode your labels (y) as integers starting with 0, i.e. 0, 1, 2, ..., [num_class - 1].\n",
      "  warnings.warn(label_encoder_deprecation_msg, UserWarning)\n"
     ]
    },
    {
     "name": "stdout",
     "output_type": "stream",
     "text": [
      "[16:11:06] WARNING: ../src/learner.cc:1061: Starting in XGBoost 1.3.0, the default evaluation metric used with the objective 'binary:logistic' was changed from 'error' to 'logloss'. Explicitly set eval_metric if you'd like to restore the old behavior.\n"
     ]
    },
    {
     "name": "stderr",
     "output_type": "stream",
     "text": [
      "/opt/conda/lib/python3.8/site-packages/xgboost/sklearn.py:888: UserWarning: The use of label encoder in XGBClassifier is deprecated and will be removed in a future release. To remove this warning, do the following: 1) Pass option use_label_encoder=False when constructing XGBClassifier object; and 2) Encode your labels (y) as integers starting with 0, i.e. 0, 1, 2, ..., [num_class - 1].\n",
      "  warnings.warn(label_encoder_deprecation_msg, UserWarning)\n"
     ]
    },
    {
     "name": "stdout",
     "output_type": "stream",
     "text": [
      "[16:11:07] WARNING: ../src/learner.cc:1061: Starting in XGBoost 1.3.0, the default evaluation metric used with the objective 'binary:logistic' was changed from 'error' to 'logloss'. Explicitly set eval_metric if you'd like to restore the old behavior.\n"
     ]
    },
    {
     "name": "stderr",
     "output_type": "stream",
     "text": [
      "/opt/conda/lib/python3.8/site-packages/xgboost/sklearn.py:888: UserWarning: The use of label encoder in XGBClassifier is deprecated and will be removed in a future release. To remove this warning, do the following: 1) Pass option use_label_encoder=False when constructing XGBClassifier object; and 2) Encode your labels (y) as integers starting with 0, i.e. 0, 1, 2, ..., [num_class - 1].\n",
      "  warnings.warn(label_encoder_deprecation_msg, UserWarning)\n"
     ]
    },
    {
     "name": "stdout",
     "output_type": "stream",
     "text": [
      "[16:11:08] WARNING: ../src/learner.cc:1061: Starting in XGBoost 1.3.0, the default evaluation metric used with the objective 'binary:logistic' was changed from 'error' to 'logloss'. Explicitly set eval_metric if you'd like to restore the old behavior.\n"
     ]
    },
    {
     "name": "stderr",
     "output_type": "stream",
     "text": [
      "/opt/conda/lib/python3.8/site-packages/xgboost/sklearn.py:888: UserWarning: The use of label encoder in XGBClassifier is deprecated and will be removed in a future release. To remove this warning, do the following: 1) Pass option use_label_encoder=False when constructing XGBClassifier object; and 2) Encode your labels (y) as integers starting with 0, i.e. 0, 1, 2, ..., [num_class - 1].\n",
      "  warnings.warn(label_encoder_deprecation_msg, UserWarning)\n"
     ]
    },
    {
     "name": "stdout",
     "output_type": "stream",
     "text": [
      "[16:11:09] WARNING: ../src/learner.cc:1061: Starting in XGBoost 1.3.0, the default evaluation metric used with the objective 'binary:logistic' was changed from 'error' to 'logloss'. Explicitly set eval_metric if you'd like to restore the old behavior.\n",
      "CV score is 0.8445497768356806+-0.017222824620210037\n",
      "[16:11:10] WARNING: ../src/learner.cc:1061: Starting in XGBoost 1.3.0, the default evaluation metric used with the objective 'binary:logistic' was changed from 'error' to 'logloss'. Explicitly set eval_metric if you'd like to restore the old behavior.\n"
     ]
    },
    {
     "name": "stderr",
     "output_type": "stream",
     "text": [
      "/opt/conda/lib/python3.8/site-packages/xgboost/sklearn.py:888: UserWarning: The use of label encoder in XGBClassifier is deprecated and will be removed in a future release. To remove this warning, do the following: 1) Pass option use_label_encoder=False when constructing XGBClassifier object; and 2) Encode your labels (y) as integers starting with 0, i.e. 0, 1, 2, ..., [num_class - 1].\n",
      "  warnings.warn(label_encoder_deprecation_msg, UserWarning)\n"
     ]
    }
   ],
   "source": [
    "classifier = Pipeline([\n",
    "    ('features',feats),\n",
    "    ('classifier', XGBClassifier(random_state = 42, n_jobs=-1)),\n",
    "])\n",
    "\n",
    "\n",
    "#запустим кросс-валидацию\n",
    "cv_scores = cross_val_score(classifier, X_train, y_train, cv=10, scoring='roc_auc')\n",
    "cv_score = np.mean(cv_scores)\n",
    "cv_score_std = np.std(cv_scores)\n",
    "print('CV score is {}+-{}'.format(cv_score, cv_score_std))\n",
    "\n",
    "#обучим пайплайн на всем тренировочном датасете\n",
    "classifier.fit(X_train, y_train)\n",
    "y_score = classifier.predict_proba(X_test)[:, 1]"
   ]
  },
  {
   "cell_type": "code",
   "execution_count": 29,
   "id": "seasonal-seeker",
   "metadata": {},
   "outputs": [
    {
     "name": "stdout",
     "output_type": "stream",
     "text": [
      "Best Threshold=0.327785, F-Score=0.626, Precision=0.604, Recall=0.650\n"
     ]
    }
   ],
   "source": [
    "precision, recall, thresholds = precision_recall_curve(y_test, y_score)\n",
    "\n",
    "\n",
    "fscore = (2 * precision * recall) / (precision + recall)\n",
    "# locate the index of the largest f score\n",
    "ix = np.argmax(fscore)\n",
    "print('Best Threshold=%f, F-Score=%.3f, Precision=%.3f, Recall=%.3f' % (thresholds[ix], \n",
    "                                                                        fscore[ix],\n",
    "                                                                        precision[ix],\n",
    "                                                                        recall[ix]))\n",
    "\n",
    "XGBoost_classifier = roc_auc_score(y_test, y_score)\n",
    "\n",
    "result.append({\"method\":\"XGboost\",\"roc_auc\" : XGBoost_classifier, \"fscore\" : fscore[ix],\n",
    "               \"precision\" : precision[ix], \"recall\" : recall[ix],\n",
    "               \"cv_score\" : cv_score, \"cv_score_std\" : cv_score_std\n",
    "              })"
   ]
  },
  {
   "cell_type": "markdown",
   "id": "front-emerald",
   "metadata": {},
   "source": [
    "Catboost"
   ]
  },
  {
   "cell_type": "code",
   "execution_count": 30,
   "id": "other-virus",
   "metadata": {},
   "outputs": [
    {
     "name": "stdout",
     "output_type": "stream",
     "text": [
      "CV score is 0.8613433625505232+-0.01385255486296977\n"
     ]
    }
   ],
   "source": [
    "classifier = Pipeline([\n",
    "    ('features',feats),\n",
    "    ('classifier', CatBoostClassifier(random_state = 42, silent=True, thread_count = -1)),\n",
    "])\n",
    "\n",
    "\n",
    "#запустим кросс-валидацию\n",
    "cv_scores = cross_val_score(classifier, X_train, y_train, cv=10, scoring='roc_auc')\n",
    "cv_score = np.mean(cv_scores)\n",
    "cv_score_std = np.std(cv_scores)\n",
    "print('CV score is {}+-{}'.format(cv_score, cv_score_std))\n",
    "\n",
    "#обучим пайплайн на всем тренировочном датасете\n",
    "classifier.fit(X_train, y_train)\n",
    "y_score = classifier.predict_proba(X_test)[:, 1]"
   ]
  },
  {
   "cell_type": "code",
   "execution_count": 31,
   "id": "alternate-champion",
   "metadata": {},
   "outputs": [
    {
     "name": "stdout",
     "output_type": "stream",
     "text": [
      "Best Threshold=0.309320, F-Score=0.642, Precision=0.597, Recall=0.695\n"
     ]
    }
   ],
   "source": [
    "precision, recall, thresholds = precision_recall_curve(y_test, y_score)\n",
    "\n",
    "\n",
    "fscore = (2 * precision * recall) / (precision + recall)\n",
    "# locate the index of the largest f score\n",
    "ix = np.argmax(fscore)\n",
    "print('Best Threshold=%f, F-Score=%.3f, Precision=%.3f, Recall=%.3f' % (thresholds[ix], \n",
    "                                                                        fscore[ix],\n",
    "                                                                        precision[ix],\n",
    "                                                                        recall[ix]))\n",
    "\n",
    "Catb_classifier = roc_auc_score(y_test, y_score)\n",
    "\n",
    "result.append({\"method\":\"Catboost\",\"roc_auc\" : Catb_classifier, \"fscore\" : fscore[ix],\n",
    "               \"precision\" : precision[ix], \"recall\" : recall[ix],\n",
    "               \"cv_score\" : cv_score, \"cv_score_std\" : cv_score_std})"
   ]
  },
  {
   "cell_type": "markdown",
   "id": "based-religion",
   "metadata": {},
   "source": [
    "LightGBM"
   ]
  },
  {
   "cell_type": "code",
   "execution_count": 32,
   "id": "advisory-arctic",
   "metadata": {},
   "outputs": [
    {
     "name": "stdout",
     "output_type": "stream",
     "text": [
      "CV score is 0.8556674658320744+-0.014996778233921091\n"
     ]
    }
   ],
   "source": [
    "classifier = Pipeline([\n",
    "    ('features',feats),\n",
    "    ('classifier', LGBMClassifier(random_state = 42, silent=True)),\n",
    "])\n",
    "\n",
    "\n",
    "#запустим кросс-валидацию\n",
    "cv_scores = cross_val_score(classifier, X_train, y_train, cv=10, scoring='roc_auc')\n",
    "cv_score = np.mean(cv_scores)\n",
    "cv_score_std = np.std(cv_scores)\n",
    "print('CV score is {}+-{}'.format(cv_score, cv_score_std))\n",
    "\n",
    "#обучим пайплайн на всем тренировочном датасете\n",
    "classifier.fit(X_train, y_train)\n",
    "y_score = classifier.predict_proba(X_test)[:, 1]"
   ]
  },
  {
   "cell_type": "code",
   "execution_count": 33,
   "id": "awful-swing",
   "metadata": {},
   "outputs": [
    {
     "name": "stdout",
     "output_type": "stream",
     "text": [
      "Best Threshold=0.361180, F-Score=0.639, Precision=0.633, Recall=0.646\n"
     ]
    }
   ],
   "source": [
    "precision, recall, thresholds = precision_recall_curve(y_test, y_score)\n",
    "\n",
    "\n",
    "fscore = (2 * precision * recall) / (precision + recall)\n",
    "# locate the index of the largest f score\n",
    "ix = np.argmax(fscore)\n",
    "print('Best Threshold=%f, F-Score=%.3f, Precision=%.3f, Recall=%.3f' % (thresholds[ix], \n",
    "                                                                        fscore[ix],\n",
    "                                                                        precision[ix],\n",
    "                                                                        recall[ix]))\n",
    "\n",
    "Lgbm_classifier = roc_auc_score(y_test, y_score)\n",
    "\n",
    "result.append({\"method\":\"Lgbm\",\"roc_auc\" : Lgbm_classifier, \"fscore\" : fscore[ix],\n",
    "               \"precision\" : precision[ix], \"recall\" : recall[ix],\n",
    "               \"cv_score\" : cv_score, \"cv_score_std\" : cv_score_std})"
   ]
  },
  {
   "cell_type": "markdown",
   "id": "crazy-twist",
   "metadata": {},
   "source": [
    "### 2. Отобрать лучшую модель по метрикам (кстати, какая по вашему мнению здесь наиболее подходящая DS-метрика)"
   ]
  },
  {
   "cell_type": "code",
   "execution_count": 37,
   "id": "directed-customs",
   "metadata": {},
   "outputs": [
    {
     "data": {
      "text/html": [
       "<div>\n",
       "<style scoped>\n",
       "    .dataframe tbody tr th:only-of-type {\n",
       "        vertical-align: middle;\n",
       "    }\n",
       "\n",
       "    .dataframe tbody tr th {\n",
       "        vertical-align: top;\n",
       "    }\n",
       "\n",
       "    .dataframe thead th {\n",
       "        text-align: right;\n",
       "    }\n",
       "</style>\n",
       "<table border=\"1\" class=\"dataframe\">\n",
       "  <thead>\n",
       "    <tr style=\"text-align: right;\">\n",
       "      <th></th>\n",
       "      <th>method</th>\n",
       "      <th>roc_auc</th>\n",
       "      <th>fscore</th>\n",
       "      <th>precision</th>\n",
       "      <th>recall</th>\n",
       "      <th>cv_score</th>\n",
       "      <th>cv_score_std</th>\n",
       "    </tr>\n",
       "  </thead>\n",
       "  <tbody>\n",
       "    <tr>\n",
       "      <th>3</th>\n",
       "      <td>Catboost</td>\n",
       "      <td>0.877038</td>\n",
       "      <td>0.642468</td>\n",
       "      <td>0.596965</td>\n",
       "      <td>0.695481</td>\n",
       "      <td>0.861343</td>\n",
       "      <td>0.013853</td>\n",
       "    </tr>\n",
       "    <tr>\n",
       "      <th>4</th>\n",
       "      <td>Lgbm</td>\n",
       "      <td>0.870491</td>\n",
       "      <td>0.639456</td>\n",
       "      <td>0.632692</td>\n",
       "      <td>0.646365</td>\n",
       "      <td>0.855667</td>\n",
       "      <td>0.014997</td>\n",
       "    </tr>\n",
       "    <tr>\n",
       "      <th>1</th>\n",
       "      <td>RandomForest</td>\n",
       "      <td>0.860872</td>\n",
       "      <td>0.637654</td>\n",
       "      <td>0.614964</td>\n",
       "      <td>0.662083</td>\n",
       "      <td>0.847646</td>\n",
       "      <td>0.014366</td>\n",
       "    </tr>\n",
       "    <tr>\n",
       "      <th>2</th>\n",
       "      <td>XGboost</td>\n",
       "      <td>0.860913</td>\n",
       "      <td>0.626301</td>\n",
       "      <td>0.604015</td>\n",
       "      <td>0.650295</td>\n",
       "      <td>0.844550</td>\n",
       "      <td>0.017223</td>\n",
       "    </tr>\n",
       "    <tr>\n",
       "      <th>0</th>\n",
       "      <td>log_reg</td>\n",
       "      <td>0.837661</td>\n",
       "      <td>0.585965</td>\n",
       "      <td>0.529319</td>\n",
       "      <td>0.656189</td>\n",
       "      <td>0.830229</td>\n",
       "      <td>0.018104</td>\n",
       "    </tr>\n",
       "  </tbody>\n",
       "</table>\n",
       "</div>"
      ],
      "text/plain": [
       "         method   roc_auc    fscore  precision    recall  cv_score  \\\n",
       "3      Catboost  0.877038  0.642468   0.596965  0.695481  0.861343   \n",
       "4          Lgbm  0.870491  0.639456   0.632692  0.646365  0.855667   \n",
       "1  RandomForest  0.860872  0.637654   0.614964  0.662083  0.847646   \n",
       "2       XGboost  0.860913  0.626301   0.604015  0.650295  0.844550   \n",
       "0       log_reg  0.837661  0.585965   0.529319  0.656189  0.830229   \n",
       "\n",
       "   cv_score_std  \n",
       "3      0.013853  \n",
       "4      0.014997  \n",
       "1      0.014366  \n",
       "2      0.017223  \n",
       "0      0.018104  "
      ]
     },
     "execution_count": 37,
     "metadata": {},
     "output_type": "execute_result"
    }
   ],
   "source": [
    "pd.DataFrame(result).sort_values('fscore', ascending=False)"
   ]
  },
  {
   "cell_type": "markdown",
   "id": "assisted-assets",
   "metadata": {},
   "source": [
    "Вывод : лучший результат показывает LightGbm хоть у Catbosst и выше fscore но в данной задаче нам нужено как хорошо предсказывать целевой класс , так и хорошо отделять его из всех обьектов."
   ]
  },
  {
   "cell_type": "markdown",
   "id": "injured-metro",
   "metadata": {},
   "source": [
    "### 3. Для отобранной модели (на отложенной выборке) сделать оценку экономической эффективности при тех же вводных, как в вопросе 2 (1 доллар на привлечение, 2 доллара - с каждого правильно классифицированного (True Positive) удержанного). (подсказка) нужно посчитать FP/TP/FN/TN для выбранного оптимального порога вероятности и посчитать выручку и траты."
   ]
  },
  {
   "cell_type": "code",
   "execution_count": 42,
   "id": "czech-values",
   "metadata": {},
   "outputs": [
    {
     "name": "stdout",
     "output_type": "stream",
     "text": [
      "Confusion matrix, without normalization\n",
      "[[1800  191]\n",
      " [ 181  328]]\n"
     ]
    },
    {
     "data": {
      "image/png": "[encoded data removed]",
      "text/plain": [
       "<Figure size 720x576 with 2 Axes>"
      ]
     },
     "metadata": {
      "needs_background": "light"
     },
     "output_type": "display_data"
    }
   ],
   "source": [
    "cnf_matrix = confusion_matrix(y_test, y_score>thresholds[ix])\n",
    "plt.figure(figsize=(10, 8))\n",
    "plot_confusion_matrix(cnf_matrix, classes=['NonChurn', 'Churn'],\n",
    "                      title='Confusion matrix')\n",
    "plt.savefig(\"conf_matrix.png\")\n",
    "plt.show()"
   ]
  },
  {
   "cell_type": "code",
   "execution_count": 43,
   "id": "veterinary-million",
   "metadata": {},
   "outputs": [
    {
     "data": {
      "text/plain": [
       "array([[1800,  191],\n",
       "       [ 181,  328]])"
      ]
     },
     "execution_count": 43,
     "metadata": {},
     "output_type": "execute_result"
    }
   ],
   "source": [
    "cnf_matrix"
   ]
  },
  {
   "cell_type": "code",
   "execution_count": 60,
   "id": "geological-ensemble",
   "metadata": {},
   "outputs": [],
   "source": [
    "TP = cnf_matrix[0][0]\n",
    "FP = cnf_matrix[0][1]\n",
    "FN = cnf_matrix[1][0]\n",
    "TN = cnf_matrix[1][1]"
   ]
  },
  {
   "cell_type": "code",
   "execution_count": 68,
   "id": "assumed-effect",
   "metadata": {},
   "outputs": [
    {
     "name": "stdout",
     "output_type": "stream",
     "text": [
      "прибыль 3791\n",
      "убыток 690\n",
      "при привлечении прибыл равна 3101\n"
     ]
    }
   ],
   "source": [
    "print(f'прибыль {(2 * TP) + FP}') # Прибыль принесут TP и только на FP нужно будет тратиться на удержание\n",
    "print(f'убыток {TN + 2*(FN)}') # TN уйдут и так а на FN будут затраты на привлечение и они уйдут \n",
    "print(f'при привлечении прибыл равна {((2 * TP) + FP) - (TN + 2*(FN)) }')"
   ]
  },
  {
   "cell_type": "markdown",
   "id": "hungarian-serial",
   "metadata": {},
   "source": [
    "### 4.(опционально) Провести подбор гиперпараметров лучшей модели по итогам 2-3"
   ]
  },
  {
   "cell_type": "code",
   "execution_count": 75,
   "id": "republican-moral",
   "metadata": {},
   "outputs": [],
   "source": [
    "params={'classifier__num_leaves':[10, 15, 20],\n",
    "        'classifier__lambda_l2':[200, 250, 300],\n",
    "        'classifier__learning_rate':[0.01 , 0.05, 0.1],\n",
    "        'classifier__n_jobs':[-1],\n",
    "        'classifier__n_estimators':[300, 500, 1000, 2000],\n",
    "        }"
   ]
  },
  {
   "cell_type": "code",
   "execution_count": 77,
   "id": "returning-summit",
   "metadata": {
    "tags": []
   },
   "outputs": [
    {
     "name": "stdout",
     "output_type": "stream",
     "text": [
      "[LightGBM] [Warning] lambda_l2 is set=200, reg_lambda=0.0 will be ignored. Current value: lambda_l2=200\n",
      "[LightGBM] [Warning] lambda_l2 is set=200, reg_lambda=0.0 will be ignored. Current value: lambda_l2=200\n",
      "[LightGBM] [Warning] lambda_l2 is set=200, reg_lambda=0.0 will be ignored. Current value: lambda_l2=200\n",
      "[LightGBM] [Warning] lambda_l2 is set=200, reg_lambda=0.0 will be ignored. Current value: lambda_l2=200\n",
      "[LightGBM] [Warning] lambda_l2 is set=200, reg_lambda=0.0 will be ignored. Current value: lambda_l2=200\n",
      "[LightGBM] [Warning] lambda_l2 is set=200, reg_lambda=0.0 will be ignored. Current value: lambda_l2=200\n",
      "[LightGBM] [Warning] lambda_l2 is set=200, reg_lambda=0.0 will be ignored. Current value: lambda_l2=200\n",
      "[LightGBM] [Warning] lambda_l2 is set=200, reg_lambda=0.0 will be ignored. Current value: lambda_l2=200\n",
      "[LightGBM] [Warning] lambda_l2 is set=200, reg_lambda=0.0 will be ignored. Current value: lambda_l2=200\n",
      "[LightGBM] [Warning] lambda_l2 is set=200, reg_lambda=0.0 will be ignored. Current value: lambda_l2=200\n",
      "[LightGBM] [Warning] lambda_l2 is set=200, reg_lambda=0.0 will be ignored. Current value: lambda_l2=200\n",
      "[LightGBM] [Warning] lambda_l2 is set=200, reg_lambda=0.0 will be ignored. Current value: lambda_l2=200\n",
      "[LightGBM] [Warning] lambda_l2 is set=200, reg_lambda=0.0 will be ignored. Current value: lambda_l2=200\n",
      "[LightGBM] [Warning] lambda_l2 is set=200, reg_lambda=0.0 will be ignored. Current value: lambda_l2=200\n",
      "[LightGBM] [Warning] lambda_l2 is set=200, reg_lambda=0.0 will be ignored. Current value: lambda_l2=200\n",
      "[LightGBM] [Warning] lambda_l2 is set=200, reg_lambda=0.0 will be ignored. Current value: lambda_l2=200\n",
      "[LightGBM] [Warning] lambda_l2 is set=200, reg_lambda=0.0 will be ignored. Current value: lambda_l2=200\n",
      "[LightGBM] [Warning] lambda_l2 is set=200, reg_lambda=0.0 will be ignored. Current value: lambda_l2=200\n",
      "[LightGBM] [Warning] lambda_l2 is set=200, reg_lambda=0.0 will be ignored. Current value: lambda_l2=200\n",
      "[LightGBM] [Warning] lambda_l2 is set=200, reg_lambda=0.0 will be ignored. Current value: lambda_l2=200\n",
      "[LightGBM] [Warning] lambda_l2 is set=200, reg_lambda=0.0 will be ignored. Current value: lambda_l2=200\n",
      "[LightGBM] [Warning] lambda_l2 is set=200, reg_lambda=0.0 will be ignored. Current value: lambda_l2=200\n",
      "[LightGBM] [Warning] lambda_l2 is set=200, reg_lambda=0.0 will be ignored. Current value: lambda_l2=200\n",
      "[LightGBM] [Warning] lambda_l2 is set=200, reg_lambda=0.0 will be ignored. Current value: lambda_l2=200\n",
      "[LightGBM] [Warning] lambda_l2 is set=200, reg_lambda=0.0 will be ignored. Current value: lambda_l2=200\n",
      "[LightGBM] [Warning] lambda_l2 is set=200, reg_lambda=0.0 will be ignored. Current value: lambda_l2=200\n",
      "[LightGBM] [Warning] lambda_l2 is set=200, reg_lambda=0.0 will be ignored. Current value: lambda_l2=200\n",
      "[LightGBM] [Warning] lambda_l2 is set=200, reg_lambda=0.0 will be ignored. Current value: lambda_l2=200\n",
      "[LightGBM] [Warning] lambda_l2 is set=200, reg_lambda=0.0 will be ignored. Current value: lambda_l2=200\n",
      "[LightGBM] [Warning] lambda_l2 is set=200, reg_lambda=0.0 will be ignored. Current value: lambda_l2=200\n",
      "[LightGBM] [Warning] lambda_l2 is set=200, reg_lambda=0.0 will be ignored. Current value: lambda_l2=200\n",
      "[LightGBM] [Warning] lambda_l2 is set=200, reg_lambda=0.0 will be ignored. Current value: lambda_l2=200\n",
      "[LightGBM] [Warning] lambda_l2 is set=200, reg_lambda=0.0 will be ignored. Current value: lambda_l2=200\n",
      "[LightGBM] [Warning] lambda_l2 is set=200, reg_lambda=0.0 will be ignored. Current value: lambda_l2=200\n",
      "[LightGBM] [Warning] lambda_l2 is set=200, reg_lambda=0.0 will be ignored. Current value: lambda_l2=200\n",
      "[LightGBM] [Warning] lambda_l2 is set=200, reg_lambda=0.0 will be ignored. Current value: lambda_l2=200\n",
      "[LightGBM] [Warning] lambda_l2 is set=200, reg_lambda=0.0 will be ignored. Current value: lambda_l2=200\n",
      "[LightGBM] [Warning] lambda_l2 is set=200, reg_lambda=0.0 will be ignored. Current value: lambda_l2=200\n",
      "[LightGBM] [Warning] lambda_l2 is set=200, reg_lambda=0.0 will be ignored. Current value: lambda_l2=200\n",
      "[LightGBM] [Warning] lambda_l2 is set=200, reg_lambda=0.0 will be ignored. Current value: lambda_l2=200\n",
      "[LightGBM] [Warning] lambda_l2 is set=200, reg_lambda=0.0 will be ignored. Current value: lambda_l2=200\n",
      "[LightGBM] [Warning] lambda_l2 is set=200, reg_lambda=0.0 will be ignored. Current value: lambda_l2=200\n",
      "[LightGBM] [Warning] lambda_l2 is set=200, reg_lambda=0.0 will be ignored. Current value: lambda_l2=200\n",
      "[LightGBM] [Warning] lambda_l2 is set=200, reg_lambda=0.0 will be ignored. Current value: lambda_l2=200\n",
      "[LightGBM] [Warning] lambda_l2 is set=200, reg_lambda=0.0 will be ignored. Current value: lambda_l2=200\n",
      "[LightGBM] [Warning] lambda_l2 is set=200, reg_lambda=0.0 will be ignored. Current value: lambda_l2=200\n",
      "[LightGBM] [Warning] lambda_l2 is set=200, reg_lambda=0.0 will be ignored. Current value: lambda_l2=200\n",
      "[LightGBM] [Warning] lambda_l2 is set=200, reg_lambda=0.0 will be ignored. Current value: lambda_l2=200\n",
      "[LightGBM] [Warning] lambda_l2 is set=200, reg_lambda=0.0 will be ignored. Current value: lambda_l2=200\n",
      "[LightGBM] [Warning] lambda_l2 is set=200, reg_lambda=0.0 will be ignored. Current value: lambda_l2=200\n",
      "[LightGBM] [Warning] lambda_l2 is set=200, reg_lambda=0.0 will be ignored. Current value: lambda_l2=200\n",
      "[LightGBM] [Warning] lambda_l2 is set=200, reg_lambda=0.0 will be ignored. Current value: lambda_l2=200\n",
      "[LightGBM] [Warning] lambda_l2 is set=200, reg_lambda=0.0 will be ignored. Current value: lambda_l2=200\n",
      "[LightGBM] [Warning] lambda_l2 is set=200, reg_lambda=0.0 will be ignored. Current value: lambda_l2=200\n",
      "[LightGBM] [Warning] lambda_l2 is set=200, reg_lambda=0.0 will be ignored. Current value: lambda_l2=200\n",
      "[LightGBM] [Warning] lambda_l2 is set=200, reg_lambda=0.0 will be ignored. Current value: lambda_l2=200\n",
      "[LightGBM] [Warning] lambda_l2 is set=200, reg_lambda=0.0 will be ignored. Current value: lambda_l2=200\n",
      "[LightGBM] [Warning] lambda_l2 is set=200, reg_lambda=0.0 will be ignored. Current value: lambda_l2=200\n",
      "[LightGBM] [Warning] lambda_l2 is set=200, reg_lambda=0.0 will be ignored. Current value: lambda_l2=200\n",
      "[LightGBM] [Warning] lambda_l2 is set=200, reg_lambda=0.0 will be ignored. Current value: lambda_l2=200\n",
      "[LightGBM] [Warning] lambda_l2 is set=200, reg_lambda=0.0 will be ignored. Current value: lambda_l2=200\n",
      "[LightGBM] [Warning] lambda_l2 is set=200, reg_lambda=0.0 will be ignored. Current value: lambda_l2=200\n",
      "[LightGBM] [Warning] lambda_l2 is set=200, reg_lambda=0.0 will be ignored. Current value: lambda_l2=200\n",
      "[LightGBM] [Warning] lambda_l2 is set=200, reg_lambda=0.0 will be ignored. Current value: lambda_l2=200\n",
      "[LightGBM] [Warning] lambda_l2 is set=200, reg_lambda=0.0 will be ignored. Current value: lambda_l2=200\n",
      "[LightGBM] [Warning] lambda_l2 is set=200, reg_lambda=0.0 will be ignored. Current value: lambda_l2=200\n",
      "[LightGBM] [Warning] lambda_l2 is set=200, reg_lambda=0.0 will be ignored. Current value: lambda_l2=200\n",
      "[LightGBM] [Warning] lambda_l2 is set=200, reg_lambda=0.0 will be ignored. Current value: lambda_l2=200\n",
      "[LightGBM] [Warning] lambda_l2 is set=200, reg_lambda=0.0 will be ignored. Current value: lambda_l2=200\n",
      "[LightGBM] [Warning] lambda_l2 is set=200, reg_lambda=0.0 will be ignored. Current value: lambda_l2=200\n",
      "[LightGBM] [Warning] lambda_l2 is set=200, reg_lambda=0.0 will be ignored. Current value: lambda_l2=200\n",
      "[LightGBM] [Warning] lambda_l2 is set=200, reg_lambda=0.0 will be ignored. Current value: lambda_l2=200\n",
      "[LightGBM] [Warning] lambda_l2 is set=200, reg_lambda=0.0 will be ignored. Current value: lambda_l2=200\n",
      "[LightGBM] [Warning] lambda_l2 is set=200, reg_lambda=0.0 will be ignored. Current value: lambda_l2=200\n",
      "[LightGBM] [Warning] lambda_l2 is set=200, reg_lambda=0.0 will be ignored. Current value: lambda_l2=200\n",
      "[LightGBM] [Warning] lambda_l2 is set=200, reg_lambda=0.0 will be ignored. Current value: lambda_l2=200\n",
      "[LightGBM] [Warning] lambda_l2 is set=200, reg_lambda=0.0 will be ignored. Current value: lambda_l2=200\n",
      "[LightGBM] [Warning] lambda_l2 is set=200, reg_lambda=0.0 will be ignored. Current value: lambda_l2=200\n",
      "[LightGBM] [Warning] lambda_l2 is set=200, reg_lambda=0.0 will be ignored. Current value: lambda_l2=200\n",
      "[LightGBM] [Warning] lambda_l2 is set=200, reg_lambda=0.0 will be ignored. Current value: lambda_l2=200\n",
      "[LightGBM] [Warning] lambda_l2 is set=200, reg_lambda=0.0 will be ignored. Current value: lambda_l2=200\n",
      "[LightGBM] [Warning] lambda_l2 is set=200, reg_lambda=0.0 will be ignored. Current value: lambda_l2=200\n",
      "[LightGBM] [Warning] lambda_l2 is set=200, reg_lambda=0.0 will be ignored. Current value: lambda_l2=200\n",
      "[LightGBM] [Warning] lambda_l2 is set=200, reg_lambda=0.0 will be ignored. Current value: lambda_l2=200\n",
      "[LightGBM] [Warning] lambda_l2 is set=200, reg_lambda=0.0 will be ignored. Current value: lambda_l2=200\n",
      "[LightGBM] [Warning] lambda_l2 is set=200, reg_lambda=0.0 will be ignored. Current value: lambda_l2=200\n",
      "[LightGBM] [Warning] lambda_l2 is set=200, reg_lambda=0.0 will be ignored. Current value: lambda_l2=200\n",
      "[LightGBM] [Warning] lambda_l2 is set=200, reg_lambda=0.0 will be ignored. Current value: lambda_l2=200\n",
      "[LightGBM] [Warning] lambda_l2 is set=200, reg_lambda=0.0 will be ignored. Current value: lambda_l2=200\n",
      "[LightGBM] [Warning] lambda_l2 is set=200, reg_lambda=0.0 will be ignored. Current value: lambda_l2=200\n",
      "[LightGBM] [Warning] lambda_l2 is set=200, reg_lambda=0.0 will be ignored. Current value: lambda_l2=200\n",
      "[LightGBM] [Warning] lambda_l2 is set=200, reg_lambda=0.0 will be ignored. Current value: lambda_l2=200\n",
      "[LightGBM] [Warning] lambda_l2 is set=200, reg_lambda=0.0 will be ignored. Current value: lambda_l2=200\n",
      "[LightGBM] [Warning] lambda_l2 is set=200, reg_lambda=0.0 will be ignored. Current value: lambda_l2=200\n",
      "[LightGBM] [Warning] lambda_l2 is set=200, reg_lambda=0.0 will be ignored. Current value: lambda_l2=200\n",
      "[LightGBM] [Warning] lambda_l2 is set=200, reg_lambda=0.0 will be ignored. Current value: lambda_l2=200\n",
      "[LightGBM] [Warning] lambda_l2 is set=200, reg_lambda=0.0 will be ignored. Current value: lambda_l2=200\n",
      "[LightGBM] [Warning] lambda_l2 is set=200, reg_lambda=0.0 will be ignored. Current value: lambda_l2=200\n",
      "[LightGBM] [Warning] lambda_l2 is set=200, reg_lambda=0.0 will be ignored. Current value: lambda_l2=200\n",
      "[LightGBM] [Warning] lambda_l2 is set=200, reg_lambda=0.0 will be ignored. Current value: lambda_l2=200\n",
      "[LightGBM] [Warning] lambda_l2 is set=200, reg_lambda=0.0 will be ignored. Current value: lambda_l2=200\n",
      "[LightGBM] [Warning] lambda_l2 is set=200, reg_lambda=0.0 will be ignored. Current value: lambda_l2=200\n",
      "[LightGBM] [Warning] lambda_l2 is set=200, reg_lambda=0.0 will be ignored. Current value: lambda_l2=200\n",
      "[LightGBM] [Warning] lambda_l2 is set=200, reg_lambda=0.0 will be ignored. Current value: lambda_l2=200\n",
      "[LightGBM] [Warning] lambda_l2 is set=200, reg_lambda=0.0 will be ignored. Current value: lambda_l2=200\n",
      "[LightGBM] [Warning] lambda_l2 is set=200, reg_lambda=0.0 will be ignored. Current value: lambda_l2=200\n",
      "[LightGBM] [Warning] lambda_l2 is set=200, reg_lambda=0.0 will be ignored. Current value: lambda_l2=200\n",
      "[LightGBM] [Warning] lambda_l2 is set=200, reg_lambda=0.0 will be ignored. Current value: lambda_l2=200\n",
      "[LightGBM] [Warning] lambda_l2 is set=200, reg_lambda=0.0 will be ignored. Current value: lambda_l2=200\n",
      "[LightGBM] [Warning] lambda_l2 is set=200, reg_lambda=0.0 will be ignored. Current value: lambda_l2=200\n",
      "[LightGBM] [Warning] lambda_l2 is set=200, reg_lambda=0.0 will be ignored. Current value: lambda_l2=200\n",
      "[LightGBM] [Warning] lambda_l2 is set=200, reg_lambda=0.0 will be ignored. Current value: lambda_l2=200\n",
      "[LightGBM] [Warning] lambda_l2 is set=200, reg_lambda=0.0 will be ignored. Current value: lambda_l2=200\n",
      "[LightGBM] [Warning] lambda_l2 is set=200, reg_lambda=0.0 will be ignored. Current value: lambda_l2=200\n",
      "[LightGBM] [Warning] lambda_l2 is set=200, reg_lambda=0.0 will be ignored. Current value: lambda_l2=200\n",
      "[LightGBM] [Warning] lambda_l2 is set=200, reg_lambda=0.0 will be ignored. Current value: lambda_l2=200\n",
      "[LightGBM] [Warning] lambda_l2 is set=200, reg_lambda=0.0 will be ignored. Current value: lambda_l2=200\n",
      "[LightGBM] [Warning] lambda_l2 is set=200, reg_lambda=0.0 will be ignored. Current value: lambda_l2=200\n",
      "[LightGBM] [Warning] lambda_l2 is set=200, reg_lambda=0.0 will be ignored. Current value: lambda_l2=200\n",
      "[LightGBM] [Warning] lambda_l2 is set=200, reg_lambda=0.0 will be ignored. Current value: lambda_l2=200\n",
      "[LightGBM] [Warning] lambda_l2 is set=200, reg_lambda=0.0 will be ignored. Current value: lambda_l2=200\n",
      "[LightGBM] [Warning] lambda_l2 is set=200, reg_lambda=0.0 will be ignored. Current value: lambda_l2=200\n",
      "[LightGBM] [Warning] lambda_l2 is set=200, reg_lambda=0.0 will be ignored. Current value: lambda_l2=200\n",
      "[LightGBM] [Warning] lambda_l2 is set=200, reg_lambda=0.0 will be ignored. Current value: lambda_l2=200\n",
      "[LightGBM] [Warning] lambda_l2 is set=200, reg_lambda=0.0 will be ignored. Current value: lambda_l2=200\n",
      "[LightGBM] [Warning] lambda_l2 is set=200, reg_lambda=0.0 will be ignored. Current value: lambda_l2=200\n",
      "[LightGBM] [Warning] lambda_l2 is set=200, reg_lambda=0.0 will be ignored. Current value: lambda_l2=200\n",
      "[LightGBM] [Warning] lambda_l2 is set=200, reg_lambda=0.0 will be ignored. Current value: lambda_l2=200\n",
      "[LightGBM] [Warning] lambda_l2 is set=200, reg_lambda=0.0 will be ignored. Current value: lambda_l2=200\n",
      "[LightGBM] [Warning] lambda_l2 is set=200, reg_lambda=0.0 will be ignored. Current value: lambda_l2=200\n",
      "[LightGBM] [Warning] lambda_l2 is set=200, reg_lambda=0.0 will be ignored. Current value: lambda_l2=200\n",
      "[LightGBM] [Warning] lambda_l2 is set=200, reg_lambda=0.0 will be ignored. Current value: lambda_l2=200\n",
      "[LightGBM] [Warning] lambda_l2 is set=200, reg_lambda=0.0 will be ignored. Current value: lambda_l2=200\n",
      "[LightGBM] [Warning] lambda_l2 is set=200, reg_lambda=0.0 will be ignored. Current value: lambda_l2=200\n",
      "[LightGBM] [Warning] lambda_l2 is set=200, reg_lambda=0.0 will be ignored. Current value: lambda_l2=200\n",
      "[LightGBM] [Warning] lambda_l2 is set=200, reg_lambda=0.0 will be ignored. Current value: lambda_l2=200\n",
      "[LightGBM] [Warning] lambda_l2 is set=200, reg_lambda=0.0 will be ignored. Current value: lambda_l2=200\n",
      "[LightGBM] [Warning] lambda_l2 is set=200, reg_lambda=0.0 will be ignored. Current value: lambda_l2=200\n",
      "[LightGBM] [Warning] lambda_l2 is set=200, reg_lambda=0.0 will be ignored. Current value: lambda_l2=200\n",
      "[LightGBM] [Warning] lambda_l2 is set=200, reg_lambda=0.0 will be ignored. Current value: lambda_l2=200\n",
      "[LightGBM] [Warning] lambda_l2 is set=200, reg_lambda=0.0 will be ignored. Current value: lambda_l2=200\n",
      "[LightGBM] [Warning] lambda_l2 is set=200, reg_lambda=0.0 will be ignored. Current value: lambda_l2=200\n",
      "[LightGBM] [Warning] lambda_l2 is set=200, reg_lambda=0.0 will be ignored. Current value: lambda_l2=200\n",
      "[LightGBM] [Warning] lambda_l2 is set=200, reg_lambda=0.0 will be ignored. Current value: lambda_l2=200\n",
      "[LightGBM] [Warning] lambda_l2 is set=200, reg_lambda=0.0 will be ignored. Current value: lambda_l2=200\n",
      "[LightGBM] [Warning] lambda_l2 is set=200, reg_lambda=0.0 will be ignored. Current value: lambda_l2=200\n",
      "[LightGBM] [Warning] lambda_l2 is set=200, reg_lambda=0.0 will be ignored. Current value: lambda_l2=200\n",
      "[LightGBM] [Warning] lambda_l2 is set=200, reg_lambda=0.0 will be ignored. Current value: lambda_l2=200\n",
      "[LightGBM] [Warning] lambda_l2 is set=200, reg_lambda=0.0 will be ignored. Current value: lambda_l2=200\n",
      "[LightGBM] [Warning] lambda_l2 is set=200, reg_lambda=0.0 will be ignored. Current value: lambda_l2=200\n",
      "[LightGBM] [Warning] lambda_l2 is set=200, reg_lambda=0.0 will be ignored. Current value: lambda_l2=200\n",
      "[LightGBM] [Warning] lambda_l2 is set=200, reg_lambda=0.0 will be ignored. Current value: lambda_l2=200\n",
      "[LightGBM] [Warning] lambda_l2 is set=200, reg_lambda=0.0 will be ignored. Current value: lambda_l2=200\n",
      "[LightGBM] [Warning] lambda_l2 is set=200, reg_lambda=0.0 will be ignored. Current value: lambda_l2=200\n",
      "[LightGBM] [Warning] lambda_l2 is set=200, reg_lambda=0.0 will be ignored. Current value: lambda_l2=200\n",
      "[LightGBM] [Warning] lambda_l2 is set=200, reg_lambda=0.0 will be ignored. Current value: lambda_l2=200\n",
      "[LightGBM] [Warning] lambda_l2 is set=200, reg_lambda=0.0 will be ignored. Current value: lambda_l2=200\n",
      "[LightGBM] [Warning] lambda_l2 is set=200, reg_lambda=0.0 will be ignored. Current value: lambda_l2=200\n",
      "[LightGBM] [Warning] lambda_l2 is set=200, reg_lambda=0.0 will be ignored. Current value: lambda_l2=200\n",
      "[LightGBM] [Warning] lambda_l2 is set=200, reg_lambda=0.0 will be ignored. Current value: lambda_l2=200\n",
      "[LightGBM] [Warning] lambda_l2 is set=200, reg_lambda=0.0 will be ignored. Current value: lambda_l2=200\n",
      "[LightGBM] [Warning] lambda_l2 is set=200, reg_lambda=0.0 will be ignored. Current value: lambda_l2=200\n",
      "[LightGBM] [Warning] lambda_l2 is set=200, reg_lambda=0.0 will be ignored. Current value: lambda_l2=200\n",
      "[LightGBM] [Warning] lambda_l2 is set=200, reg_lambda=0.0 will be ignored. Current value: lambda_l2=200\n",
      "[LightGBM] [Warning] lambda_l2 is set=200, reg_lambda=0.0 will be ignored. Current value: lambda_l2=200\n",
      "[LightGBM] [Warning] lambda_l2 is set=200, reg_lambda=0.0 will be ignored. Current value: lambda_l2=200\n",
      "[LightGBM] [Warning] lambda_l2 is set=200, reg_lambda=0.0 will be ignored. Current value: lambda_l2=200\n",
      "[LightGBM] [Warning] lambda_l2 is set=200, reg_lambda=0.0 will be ignored. Current value: lambda_l2=200\n",
      "[LightGBM] [Warning] lambda_l2 is set=200, reg_lambda=0.0 will be ignored. Current value: lambda_l2=200\n",
      "[LightGBM] [Warning] lambda_l2 is set=200, reg_lambda=0.0 will be ignored. Current value: lambda_l2=200\n",
      "[LightGBM] [Warning] lambda_l2 is set=200, reg_lambda=0.0 will be ignored. Current value: lambda_l2=200\n",
      "[LightGBM] [Warning] lambda_l2 is set=200, reg_lambda=0.0 will be ignored. Current value: lambda_l2=200\n",
      "[LightGBM] [Warning] lambda_l2 is set=200, reg_lambda=0.0 will be ignored. Current value: lambda_l2=200\n",
      "[LightGBM] [Warning] lambda_l2 is set=200, reg_lambda=0.0 will be ignored. Current value: lambda_l2=200\n",
      "[LightGBM] [Warning] lambda_l2 is set=200, reg_lambda=0.0 will be ignored. Current value: lambda_l2=200\n",
      "[LightGBM] [Warning] lambda_l2 is set=200, reg_lambda=0.0 will be ignored. Current value: lambda_l2=200\n",
      "[LightGBM] [Warning] lambda_l2 is set=200, reg_lambda=0.0 will be ignored. Current value: lambda_l2=200\n",
      "[LightGBM] [Warning] lambda_l2 is set=200, reg_lambda=0.0 will be ignored. Current value: lambda_l2=200\n",
      "[LightGBM] [Warning] lambda_l2 is set=200, reg_lambda=0.0 will be ignored. Current value: lambda_l2=200\n",
      "[LightGBM] [Warning] lambda_l2 is set=200, reg_lambda=0.0 will be ignored. Current value: lambda_l2=200\n",
      "[LightGBM] [Warning] lambda_l2 is set=200, reg_lambda=0.0 will be ignored. Current value: lambda_l2=200\n",
      "[LightGBM] [Warning] lambda_l2 is set=200, reg_lambda=0.0 will be ignored. Current value: lambda_l2=200\n",
      "[LightGBM] [Warning] lambda_l2 is set=200, reg_lambda=0.0 will be ignored. Current value: lambda_l2=200\n",
      "[LightGBM] [Warning] lambda_l2 is set=200, reg_lambda=0.0 will be ignored. Current value: lambda_l2=200\n",
      "[LightGBM] [Warning] lambda_l2 is set=200, reg_lambda=0.0 will be ignored. Current value: lambda_l2=200\n",
      "[LightGBM] [Warning] lambda_l2 is set=200, reg_lambda=0.0 will be ignored. Current value: lambda_l2=200\n",
      "[LightGBM] [Warning] lambda_l2 is set=200, reg_lambda=0.0 will be ignored. Current value: lambda_l2=200\n",
      "[LightGBM] [Warning] lambda_l2 is set=200, reg_lambda=0.0 will be ignored. Current value: lambda_l2=200\n",
      "[LightGBM] [Warning] lambda_l2 is set=200, reg_lambda=0.0 will be ignored. Current value: lambda_l2=200\n",
      "[LightGBM] [Warning] lambda_l2 is set=200, reg_lambda=0.0 will be ignored. Current value: lambda_l2=200\n",
      "[LightGBM] [Warning] lambda_l2 is set=200, reg_lambda=0.0 will be ignored. Current value: lambda_l2=200\n",
      "[LightGBM] [Warning] lambda_l2 is set=200, reg_lambda=0.0 will be ignored. Current value: lambda_l2=200\n",
      "[LightGBM] [Warning] lambda_l2 is set=200, reg_lambda=0.0 will be ignored. Current value: lambda_l2=200\n",
      "[LightGBM] [Warning] lambda_l2 is set=200, reg_lambda=0.0 will be ignored. Current value: lambda_l2=200\n",
      "[LightGBM] [Warning] lambda_l2 is set=200, reg_lambda=0.0 will be ignored. Current value: lambda_l2=200\n",
      "[LightGBM] [Warning] lambda_l2 is set=200, reg_lambda=0.0 will be ignored. Current value: lambda_l2=200\n",
      "[LightGBM] [Warning] lambda_l2 is set=200, reg_lambda=0.0 will be ignored. Current value: lambda_l2=200\n",
      "[LightGBM] [Warning] lambda_l2 is set=200, reg_lambda=0.0 will be ignored. Current value: lambda_l2=200\n",
      "[LightGBM] [Warning] lambda_l2 is set=200, reg_lambda=0.0 will be ignored. Current value: lambda_l2=200\n",
      "[LightGBM] [Warning] lambda_l2 is set=200, reg_lambda=0.0 will be ignored. Current value: lambda_l2=200\n",
      "[LightGBM] [Warning] lambda_l2 is set=200, reg_lambda=0.0 will be ignored. Current value: lambda_l2=200\n",
      "[LightGBM] [Warning] lambda_l2 is set=200, reg_lambda=0.0 will be ignored. Current value: lambda_l2=200\n",
      "[LightGBM] [Warning] lambda_l2 is set=200, reg_lambda=0.0 will be ignored. Current value: lambda_l2=200\n",
      "[LightGBM] [Warning] lambda_l2 is set=200, reg_lambda=0.0 will be ignored. Current value: lambda_l2=200\n",
      "[LightGBM] [Warning] lambda_l2 is set=200, reg_lambda=0.0 will be ignored. Current value: lambda_l2=200\n",
      "[LightGBM] [Warning] lambda_l2 is set=200, reg_lambda=0.0 will be ignored. Current value: lambda_l2=200\n",
      "[LightGBM] [Warning] lambda_l2 is set=200, reg_lambda=0.0 will be ignored. Current value: lambda_l2=200\n",
      "[LightGBM] [Warning] lambda_l2 is set=200, reg_lambda=0.0 will be ignored. Current value: lambda_l2=200\n",
      "[LightGBM] [Warning] lambda_l2 is set=200, reg_lambda=0.0 will be ignored. Current value: lambda_l2=200\n",
      "[LightGBM] [Warning] lambda_l2 is set=200, reg_lambda=0.0 will be ignored. Current value: lambda_l2=200\n",
      "[LightGBM] [Warning] lambda_l2 is set=200, reg_lambda=0.0 will be ignored. Current value: lambda_l2=200\n",
      "[LightGBM] [Warning] lambda_l2 is set=200, reg_lambda=0.0 will be ignored. Current value: lambda_l2=200\n",
      "[LightGBM] [Warning] lambda_l2 is set=200, reg_lambda=0.0 will be ignored. Current value: lambda_l2=200\n",
      "[LightGBM] [Warning] lambda_l2 is set=200, reg_lambda=0.0 will be ignored. Current value: lambda_l2=200\n",
      "[LightGBM] [Warning] lambda_l2 is set=200, reg_lambda=0.0 will be ignored. Current value: lambda_l2=200\n",
      "[LightGBM] [Warning] lambda_l2 is set=250, reg_lambda=0.0 will be ignored. Current value: lambda_l2=250\n",
      "[LightGBM] [Warning] lambda_l2 is set=250, reg_lambda=0.0 will be ignored. Current value: lambda_l2=250\n",
      "[LightGBM] [Warning] lambda_l2 is set=250, reg_lambda=0.0 will be ignored. Current value: lambda_l2=250\n",
      "[LightGBM] [Warning] lambda_l2 is set=250, reg_lambda=0.0 will be ignored. Current value: lambda_l2=250\n",
      "[LightGBM] [Warning] lambda_l2 is set=250, reg_lambda=0.0 will be ignored. Current value: lambda_l2=250\n",
      "[LightGBM] [Warning] lambda_l2 is set=250, reg_lambda=0.0 will be ignored. Current value: lambda_l2=250\n",
      "[LightGBM] [Warning] lambda_l2 is set=250, reg_lambda=0.0 will be ignored. Current value: lambda_l2=250\n",
      "[LightGBM] [Warning] lambda_l2 is set=250, reg_lambda=0.0 will be ignored. Current value: lambda_l2=250\n",
      "[LightGBM] [Warning] lambda_l2 is set=250, reg_lambda=0.0 will be ignored. Current value: lambda_l2=250\n",
      "[LightGBM] [Warning] lambda_l2 is set=250, reg_lambda=0.0 will be ignored. Current value: lambda_l2=250\n",
      "[LightGBM] [Warning] lambda_l2 is set=250, reg_lambda=0.0 will be ignored. Current value: lambda_l2=250\n",
      "[LightGBM] [Warning] lambda_l2 is set=250, reg_lambda=0.0 will be ignored. Current value: lambda_l2=250\n",
      "[LightGBM] [Warning] lambda_l2 is set=250, reg_lambda=0.0 will be ignored. Current value: lambda_l2=250\n",
      "[LightGBM] [Warning] lambda_l2 is set=250, reg_lambda=0.0 will be ignored. Current value: lambda_l2=250\n",
      "[LightGBM] [Warning] lambda_l2 is set=250, reg_lambda=0.0 will be ignored. Current value: lambda_l2=250\n",
      "[LightGBM] [Warning] lambda_l2 is set=250, reg_lambda=0.0 will be ignored. Current value: lambda_l2=250\n",
      "[LightGBM] [Warning] lambda_l2 is set=250, reg_lambda=0.0 will be ignored. Current value: lambda_l2=250\n",
      "[LightGBM] [Warning] lambda_l2 is set=250, reg_lambda=0.0 will be ignored. Current value: lambda_l2=250\n",
      "[LightGBM] [Warning] lambda_l2 is set=250, reg_lambda=0.0 will be ignored. Current value: lambda_l2=250\n",
      "[LightGBM] [Warning] lambda_l2 is set=250, reg_lambda=0.0 will be ignored. Current value: lambda_l2=250\n",
      "[LightGBM] [Warning] lambda_l2 is set=250, reg_lambda=0.0 will be ignored. Current value: lambda_l2=250\n",
      "[LightGBM] [Warning] lambda_l2 is set=250, reg_lambda=0.0 will be ignored. Current value: lambda_l2=250\n",
      "[LightGBM] [Warning] lambda_l2 is set=250, reg_lambda=0.0 will be ignored. Current value: lambda_l2=250\n",
      "[LightGBM] [Warning] lambda_l2 is set=250, reg_lambda=0.0 will be ignored. Current value: lambda_l2=250\n",
      "[LightGBM] [Warning] lambda_l2 is set=250, reg_lambda=0.0 will be ignored. Current value: lambda_l2=250\n",
      "[LightGBM] [Warning] lambda_l2 is set=250, reg_lambda=0.0 will be ignored. Current value: lambda_l2=250\n",
      "[LightGBM] [Warning] lambda_l2 is set=250, reg_lambda=0.0 will be ignored. Current value: lambda_l2=250\n",
      "[LightGBM] [Warning] lambda_l2 is set=250, reg_lambda=0.0 will be ignored. Current value: lambda_l2=250\n",
      "[LightGBM] [Warning] lambda_l2 is set=250, reg_lambda=0.0 will be ignored. Current value: lambda_l2=250\n",
      "[LightGBM] [Warning] lambda_l2 is set=250, reg_lambda=0.0 will be ignored. Current value: lambda_l2=250\n",
      "[LightGBM] [Warning] lambda_l2 is set=250, reg_lambda=0.0 will be ignored. Current value: lambda_l2=250\n",
      "[LightGBM] [Warning] lambda_l2 is set=250, reg_lambda=0.0 will be ignored. Current value: lambda_l2=250\n",
      "[LightGBM] [Warning] lambda_l2 is set=250, reg_lambda=0.0 will be ignored. Current value: lambda_l2=250\n",
      "[LightGBM] [Warning] lambda_l2 is set=250, reg_lambda=0.0 will be ignored. Current value: lambda_l2=250\n",
      "[LightGBM] [Warning] lambda_l2 is set=250, reg_lambda=0.0 will be ignored. Current value: lambda_l2=250\n",
      "[LightGBM] [Warning] lambda_l2 is set=250, reg_lambda=0.0 will be ignored. Current value: lambda_l2=250\n",
      "[LightGBM] [Warning] lambda_l2 is set=250, reg_lambda=0.0 will be ignored. Current value: lambda_l2=250\n",
      "[LightGBM] [Warning] lambda_l2 is set=250, reg_lambda=0.0 will be ignored. Current value: lambda_l2=250\n",
      "[LightGBM] [Warning] lambda_l2 is set=250, reg_lambda=0.0 will be ignored. Current value: lambda_l2=250\n",
      "[LightGBM] [Warning] lambda_l2 is set=250, reg_lambda=0.0 will be ignored. Current value: lambda_l2=250\n",
      "[LightGBM] [Warning] lambda_l2 is set=250, reg_lambda=0.0 will be ignored. Current value: lambda_l2=250\n",
      "[LightGBM] [Warning] lambda_l2 is set=250, reg_lambda=0.0 will be ignored. Current value: lambda_l2=250\n",
      "[LightGBM] [Warning] lambda_l2 is set=250, reg_lambda=0.0 will be ignored. Current value: lambda_l2=250\n",
      "[LightGBM] [Warning] lambda_l2 is set=250, reg_lambda=0.0 will be ignored. Current value: lambda_l2=250\n",
      "[LightGBM] [Warning] lambda_l2 is set=250, reg_lambda=0.0 will be ignored. Current value: lambda_l2=250\n",
      "[LightGBM] [Warning] lambda_l2 is set=250, reg_lambda=0.0 will be ignored. Current value: lambda_l2=250\n",
      "[LightGBM] [Warning] lambda_l2 is set=250, reg_lambda=0.0 will be ignored. Current value: lambda_l2=250\n",
      "[LightGBM] [Warning] lambda_l2 is set=250, reg_lambda=0.0 will be ignored. Current value: lambda_l2=250\n",
      "[LightGBM] [Warning] lambda_l2 is set=250, reg_lambda=0.0 will be ignored. Current value: lambda_l2=250\n",
      "[LightGBM] [Warning] lambda_l2 is set=250, reg_lambda=0.0 will be ignored. Current value: lambda_l2=250\n",
      "[LightGBM] [Warning] lambda_l2 is set=250, reg_lambda=0.0 will be ignored. Current value: lambda_l2=250\n",
      "[LightGBM] [Warning] lambda_l2 is set=250, reg_lambda=0.0 will be ignored. Current value: lambda_l2=250\n",
      "[LightGBM] [Warning] lambda_l2 is set=250, reg_lambda=0.0 will be ignored. Current value: lambda_l2=250\n",
      "[LightGBM] [Warning] lambda_l2 is set=250, reg_lambda=0.0 will be ignored. Current value: lambda_l2=250\n",
      "[LightGBM] [Warning] lambda_l2 is set=250, reg_lambda=0.0 will be ignored. Current value: lambda_l2=250\n",
      "[LightGBM] [Warning] lambda_l2 is set=250, reg_lambda=0.0 will be ignored. Current value: lambda_l2=250\n",
      "[LightGBM] [Warning] lambda_l2 is set=250, reg_lambda=0.0 will be ignored. Current value: lambda_l2=250\n",
      "[LightGBM] [Warning] lambda_l2 is set=250, reg_lambda=0.0 will be ignored. Current value: lambda_l2=250\n",
      "[LightGBM] [Warning] lambda_l2 is set=250, reg_lambda=0.0 will be ignored. Current value: lambda_l2=250\n",
      "[LightGBM] [Warning] lambda_l2 is set=250, reg_lambda=0.0 will be ignored. Current value: lambda_l2=250\n",
      "[LightGBM] [Warning] lambda_l2 is set=250, reg_lambda=0.0 will be ignored. Current value: lambda_l2=250\n",
      "[LightGBM] [Warning] lambda_l2 is set=250, reg_lambda=0.0 will be ignored. Current value: lambda_l2=250\n",
      "[LightGBM] [Warning] lambda_l2 is set=250, reg_lambda=0.0 will be ignored. Current value: lambda_l2=250\n",
      "[LightGBM] [Warning] lambda_l2 is set=250, reg_lambda=0.0 will be ignored. Current value: lambda_l2=250\n",
      "[LightGBM] [Warning] lambda_l2 is set=250, reg_lambda=0.0 will be ignored. Current value: lambda_l2=250\n",
      "[LightGBM] [Warning] lambda_l2 is set=250, reg_lambda=0.0 will be ignored. Current value: lambda_l2=250\n",
      "[LightGBM] [Warning] lambda_l2 is set=250, reg_lambda=0.0 will be ignored. Current value: lambda_l2=250\n",
      "[LightGBM] [Warning] lambda_l2 is set=250, reg_lambda=0.0 will be ignored. Current value: lambda_l2=250\n",
      "[LightGBM] [Warning] lambda_l2 is set=250, reg_lambda=0.0 will be ignored. Current value: lambda_l2=250\n",
      "[LightGBM] [Warning] lambda_l2 is set=250, reg_lambda=0.0 will be ignored. Current value: lambda_l2=250\n",
      "[LightGBM] [Warning] lambda_l2 is set=250, reg_lambda=0.0 will be ignored. Current value: lambda_l2=250\n",
      "[LightGBM] [Warning] lambda_l2 is set=250, reg_lambda=0.0 will be ignored. Current value: lambda_l2=250\n",
      "[LightGBM] [Warning] lambda_l2 is set=250, reg_lambda=0.0 will be ignored. Current value: lambda_l2=250\n",
      "[LightGBM] [Warning] lambda_l2 is set=250, reg_lambda=0.0 will be ignored. Current value: lambda_l2=250\n",
      "[LightGBM] [Warning] lambda_l2 is set=250, reg_lambda=0.0 will be ignored. Current value: lambda_l2=250\n",
      "[LightGBM] [Warning] lambda_l2 is set=250, reg_lambda=0.0 will be ignored. Current value: lambda_l2=250\n",
      "[LightGBM] [Warning] lambda_l2 is set=250, reg_lambda=0.0 will be ignored. Current value: lambda_l2=250\n",
      "[LightGBM] [Warning] lambda_l2 is set=250, reg_lambda=0.0 will be ignored. Current value: lambda_l2=250\n",
      "[LightGBM] [Warning] lambda_l2 is set=250, reg_lambda=0.0 will be ignored. Current value: lambda_l2=250\n",
      "[LightGBM] [Warning] lambda_l2 is set=250, reg_lambda=0.0 will be ignored. Current value: lambda_l2=250\n",
      "[LightGBM] [Warning] lambda_l2 is set=250, reg_lambda=0.0 will be ignored. Current value: lambda_l2=250\n",
      "[LightGBM] [Warning] lambda_l2 is set=250, reg_lambda=0.0 will be ignored. Current value: lambda_l2=250\n",
      "[LightGBM] [Warning] lambda_l2 is set=250, reg_lambda=0.0 will be ignored. Current value: lambda_l2=250\n",
      "[LightGBM] [Warning] lambda_l2 is set=250, reg_lambda=0.0 will be ignored. Current value: lambda_l2=250\n",
      "[LightGBM] [Warning] lambda_l2 is set=250, reg_lambda=0.0 will be ignored. Current value: lambda_l2=250\n",
      "[LightGBM] [Warning] lambda_l2 is set=250, reg_lambda=0.0 will be ignored. Current value: lambda_l2=250\n",
      "[LightGBM] [Warning] lambda_l2 is set=250, reg_lambda=0.0 will be ignored. Current value: lambda_l2=250\n",
      "[LightGBM] [Warning] lambda_l2 is set=250, reg_lambda=0.0 will be ignored. Current value: lambda_l2=250\n",
      "[LightGBM] [Warning] lambda_l2 is set=250, reg_lambda=0.0 will be ignored. Current value: lambda_l2=250\n",
      "[LightGBM] [Warning] lambda_l2 is set=250, reg_lambda=0.0 will be ignored. Current value: lambda_l2=250\n",
      "[LightGBM] [Warning] lambda_l2 is set=250, reg_lambda=0.0 will be ignored. Current value: lambda_l2=250\n",
      "[LightGBM] [Warning] lambda_l2 is set=250, reg_lambda=0.0 will be ignored. Current value: lambda_l2=250\n",
      "[LightGBM] [Warning] lambda_l2 is set=250, reg_lambda=0.0 will be ignored. Current value: lambda_l2=250\n",
      "[LightGBM] [Warning] lambda_l2 is set=250, reg_lambda=0.0 will be ignored. Current value: lambda_l2=250\n",
      "[LightGBM] [Warning] lambda_l2 is set=250, reg_lambda=0.0 will be ignored. Current value: lambda_l2=250\n",
      "[LightGBM] [Warning] lambda_l2 is set=250, reg_lambda=0.0 will be ignored. Current value: lambda_l2=250\n",
      "[LightGBM] [Warning] lambda_l2 is set=250, reg_lambda=0.0 will be ignored. Current value: lambda_l2=250\n",
      "[LightGBM] [Warning] lambda_l2 is set=250, reg_lambda=0.0 will be ignored. Current value: lambda_l2=250\n",
      "[LightGBM] [Warning] lambda_l2 is set=250, reg_lambda=0.0 will be ignored. Current value: lambda_l2=250\n",
      "[LightGBM] [Warning] lambda_l2 is set=250, reg_lambda=0.0 will be ignored. Current value: lambda_l2=250\n",
      "[LightGBM] [Warning] lambda_l2 is set=250, reg_lambda=0.0 will be ignored. Current value: lambda_l2=250\n",
      "[LightGBM] [Warning] lambda_l2 is set=250, reg_lambda=0.0 will be ignored. Current value: lambda_l2=250\n",
      "[LightGBM] [Warning] lambda_l2 is set=250, reg_lambda=0.0 will be ignored. Current value: lambda_l2=250\n",
      "[LightGBM] [Warning] lambda_l2 is set=250, reg_lambda=0.0 will be ignored. Current value: lambda_l2=250\n",
      "[LightGBM] [Warning] lambda_l2 is set=250, reg_lambda=0.0 will be ignored. Current value: lambda_l2=250\n",
      "[LightGBM] [Warning] lambda_l2 is set=250, reg_lambda=0.0 will be ignored. Current value: lambda_l2=250\n",
      "[LightGBM] [Warning] lambda_l2 is set=250, reg_lambda=0.0 will be ignored. Current value: lambda_l2=250\n",
      "[LightGBM] [Warning] lambda_l2 is set=250, reg_lambda=0.0 will be ignored. Current value: lambda_l2=250\n",
      "[LightGBM] [Warning] lambda_l2 is set=250, reg_lambda=0.0 will be ignored. Current value: lambda_l2=250\n",
      "[LightGBM] [Warning] lambda_l2 is set=250, reg_lambda=0.0 will be ignored. Current value: lambda_l2=250\n",
      "[LightGBM] [Warning] lambda_l2 is set=250, reg_lambda=0.0 will be ignored. Current value: lambda_l2=250\n",
      "[LightGBM] [Warning] lambda_l2 is set=250, reg_lambda=0.0 will be ignored. Current value: lambda_l2=250\n",
      "[LightGBM] [Warning] lambda_l2 is set=250, reg_lambda=0.0 will be ignored. Current value: lambda_l2=250\n",
      "[LightGBM] [Warning] lambda_l2 is set=250, reg_lambda=0.0 will be ignored. Current value: lambda_l2=250\n",
      "[LightGBM] [Warning] lambda_l2 is set=250, reg_lambda=0.0 will be ignored. Current value: lambda_l2=250\n",
      "[LightGBM] [Warning] lambda_l2 is set=250, reg_lambda=0.0 will be ignored. Current value: lambda_l2=250\n",
      "[LightGBM] [Warning] lambda_l2 is set=250, reg_lambda=0.0 will be ignored. Current value: lambda_l2=250\n",
      "[LightGBM] [Warning] lambda_l2 is set=250, reg_lambda=0.0 will be ignored. Current value: lambda_l2=250\n",
      "[LightGBM] [Warning] lambda_l2 is set=250, reg_lambda=0.0 will be ignored. Current value: lambda_l2=250\n",
      "[LightGBM] [Warning] lambda_l2 is set=250, reg_lambda=0.0 will be ignored. Current value: lambda_l2=250\n",
      "[LightGBM] [Warning] lambda_l2 is set=250, reg_lambda=0.0 will be ignored. Current value: lambda_l2=250\n",
      "[LightGBM] [Warning] lambda_l2 is set=250, reg_lambda=0.0 will be ignored. Current value: lambda_l2=250\n",
      "[LightGBM] [Warning] lambda_l2 is set=250, reg_lambda=0.0 will be ignored. Current value: lambda_l2=250\n",
      "[LightGBM] [Warning] lambda_l2 is set=250, reg_lambda=0.0 will be ignored. Current value: lambda_l2=250\n",
      "[LightGBM] [Warning] lambda_l2 is set=250, reg_lambda=0.0 will be ignored. Current value: lambda_l2=250\n",
      "[LightGBM] [Warning] lambda_l2 is set=250, reg_lambda=0.0 will be ignored. Current value: lambda_l2=250\n",
      "[LightGBM] [Warning] lambda_l2 is set=250, reg_lambda=0.0 will be ignored. Current value: lambda_l2=250\n",
      "[LightGBM] [Warning] lambda_l2 is set=250, reg_lambda=0.0 will be ignored. Current value: lambda_l2=250\n",
      "[LightGBM] [Warning] lambda_l2 is set=250, reg_lambda=0.0 will be ignored. Current value: lambda_l2=250\n",
      "[LightGBM] [Warning] lambda_l2 is set=250, reg_lambda=0.0 will be ignored. Current value: lambda_l2=250\n",
      "[LightGBM] [Warning] lambda_l2 is set=250, reg_lambda=0.0 will be ignored. Current value: lambda_l2=250\n",
      "[LightGBM] [Warning] lambda_l2 is set=250, reg_lambda=0.0 will be ignored. Current value: lambda_l2=250\n",
      "[LightGBM] [Warning] lambda_l2 is set=250, reg_lambda=0.0 will be ignored. Current value: lambda_l2=250\n",
      "[LightGBM] [Warning] lambda_l2 is set=250, reg_lambda=0.0 will be ignored. Current value: lambda_l2=250\n",
      "[LightGBM] [Warning] lambda_l2 is set=250, reg_lambda=0.0 will be ignored. Current value: lambda_l2=250\n",
      "[LightGBM] [Warning] lambda_l2 is set=250, reg_lambda=0.0 will be ignored. Current value: lambda_l2=250\n",
      "[LightGBM] [Warning] lambda_l2 is set=250, reg_lambda=0.0 will be ignored. Current value: lambda_l2=250\n",
      "[LightGBM] [Warning] lambda_l2 is set=250, reg_lambda=0.0 will be ignored. Current value: lambda_l2=250\n",
      "[LightGBM] [Warning] lambda_l2 is set=250, reg_lambda=0.0 will be ignored. Current value: lambda_l2=250\n",
      "[LightGBM] [Warning] lambda_l2 is set=250, reg_lambda=0.0 will be ignored. Current value: lambda_l2=250\n",
      "[LightGBM] [Warning] lambda_l2 is set=250, reg_lambda=0.0 will be ignored. Current value: lambda_l2=250\n",
      "[LightGBM] [Warning] lambda_l2 is set=250, reg_lambda=0.0 will be ignored. Current value: lambda_l2=250\n",
      "[LightGBM] [Warning] lambda_l2 is set=250, reg_lambda=0.0 will be ignored. Current value: lambda_l2=250\n",
      "[LightGBM] [Warning] lambda_l2 is set=250, reg_lambda=0.0 will be ignored. Current value: lambda_l2=250\n",
      "[LightGBM] [Warning] lambda_l2 is set=250, reg_lambda=0.0 will be ignored. Current value: lambda_l2=250\n",
      "[LightGBM] [Warning] lambda_l2 is set=250, reg_lambda=0.0 will be ignored. Current value: lambda_l2=250\n",
      "[LightGBM] [Warning] lambda_l2 is set=250, reg_lambda=0.0 will be ignored. Current value: lambda_l2=250\n",
      "[LightGBM] [Warning] lambda_l2 is set=250, reg_lambda=0.0 will be ignored. Current value: lambda_l2=250\n",
      "[LightGBM] [Warning] lambda_l2 is set=250, reg_lambda=0.0 will be ignored. Current value: lambda_l2=250\n",
      "[LightGBM] [Warning] lambda_l2 is set=250, reg_lambda=0.0 will be ignored. Current value: lambda_l2=250\n",
      "[LightGBM] [Warning] lambda_l2 is set=250, reg_lambda=0.0 will be ignored. Current value: lambda_l2=250\n",
      "[LightGBM] [Warning] lambda_l2 is set=250, reg_lambda=0.0 will be ignored. Current value: lambda_l2=250\n",
      "[LightGBM] [Warning] lambda_l2 is set=250, reg_lambda=0.0 will be ignored. Current value: lambda_l2=250\n",
      "[LightGBM] [Warning] lambda_l2 is set=250, reg_lambda=0.0 will be ignored. Current value: lambda_l2=250\n",
      "[LightGBM] [Warning] lambda_l2 is set=250, reg_lambda=0.0 will be ignored. Current value: lambda_l2=250\n",
      "[LightGBM] [Warning] lambda_l2 is set=250, reg_lambda=0.0 will be ignored. Current value: lambda_l2=250\n",
      "[LightGBM] [Warning] lambda_l2 is set=250, reg_lambda=0.0 will be ignored. Current value: lambda_l2=250\n",
      "[LightGBM] [Warning] lambda_l2 is set=250, reg_lambda=0.0 will be ignored. Current value: lambda_l2=250\n",
      "[LightGBM] [Warning] lambda_l2 is set=250, reg_lambda=0.0 will be ignored. Current value: lambda_l2=250\n",
      "[LightGBM] [Warning] lambda_l2 is set=250, reg_lambda=0.0 will be ignored. Current value: lambda_l2=250\n",
      "[LightGBM] [Warning] lambda_l2 is set=250, reg_lambda=0.0 will be ignored. Current value: lambda_l2=250\n",
      "[LightGBM] [Warning] lambda_l2 is set=250, reg_lambda=0.0 will be ignored. Current value: lambda_l2=250\n",
      "[LightGBM] [Warning] lambda_l2 is set=250, reg_lambda=0.0 will be ignored. Current value: lambda_l2=250\n",
      "[LightGBM] [Warning] lambda_l2 is set=250, reg_lambda=0.0 will be ignored. Current value: lambda_l2=250\n",
      "[LightGBM] [Warning] lambda_l2 is set=250, reg_lambda=0.0 will be ignored. Current value: lambda_l2=250\n",
      "[LightGBM] [Warning] lambda_l2 is set=250, reg_lambda=0.0 will be ignored. Current value: lambda_l2=250\n",
      "[LightGBM] [Warning] lambda_l2 is set=250, reg_lambda=0.0 will be ignored. Current value: lambda_l2=250\n",
      "[LightGBM] [Warning] lambda_l2 is set=250, reg_lambda=0.0 will be ignored. Current value: lambda_l2=250\n",
      "[LightGBM] [Warning] lambda_l2 is set=250, reg_lambda=0.0 will be ignored. Current value: lambda_l2=250\n",
      "[LightGBM] [Warning] lambda_l2 is set=250, reg_lambda=0.0 will be ignored. Current value: lambda_l2=250\n",
      "[LightGBM] [Warning] lambda_l2 is set=250, reg_lambda=0.0 will be ignored. Current value: lambda_l2=250\n",
      "[LightGBM] [Warning] lambda_l2 is set=250, reg_lambda=0.0 will be ignored. Current value: lambda_l2=250\n",
      "[LightGBM] [Warning] lambda_l2 is set=250, reg_lambda=0.0 will be ignored. Current value: lambda_l2=250\n",
      "[LightGBM] [Warning] lambda_l2 is set=250, reg_lambda=0.0 will be ignored. Current value: lambda_l2=250\n",
      "[LightGBM] [Warning] lambda_l2 is set=250, reg_lambda=0.0 will be ignored. Current value: lambda_l2=250\n",
      "[LightGBM] [Warning] lambda_l2 is set=250, reg_lambda=0.0 will be ignored. Current value: lambda_l2=250\n",
      "[LightGBM] [Warning] lambda_l2 is set=250, reg_lambda=0.0 will be ignored. Current value: lambda_l2=250\n",
      "[LightGBM] [Warning] lambda_l2 is set=250, reg_lambda=0.0 will be ignored. Current value: lambda_l2=250\n",
      "[LightGBM] [Warning] lambda_l2 is set=250, reg_lambda=0.0 will be ignored. Current value: lambda_l2=250\n",
      "[LightGBM] [Warning] lambda_l2 is set=250, reg_lambda=0.0 will be ignored. Current value: lambda_l2=250\n",
      "[LightGBM] [Warning] lambda_l2 is set=250, reg_lambda=0.0 will be ignored. Current value: lambda_l2=250\n",
      "[LightGBM] [Warning] lambda_l2 is set=250, reg_lambda=0.0 will be ignored. Current value: lambda_l2=250\n",
      "[LightGBM] [Warning] lambda_l2 is set=250, reg_lambda=0.0 will be ignored. Current value: lambda_l2=250\n",
      "[LightGBM] [Warning] lambda_l2 is set=250, reg_lambda=0.0 will be ignored. Current value: lambda_l2=250\n",
      "[LightGBM] [Warning] lambda_l2 is set=250, reg_lambda=0.0 will be ignored. Current value: lambda_l2=250\n",
      "[LightGBM] [Warning] lambda_l2 is set=250, reg_lambda=0.0 will be ignored. Current value: lambda_l2=250\n",
      "[LightGBM] [Warning] lambda_l2 is set=250, reg_lambda=0.0 will be ignored. Current value: lambda_l2=250\n",
      "[LightGBM] [Warning] lambda_l2 is set=250, reg_lambda=0.0 will be ignored. Current value: lambda_l2=250\n",
      "[LightGBM] [Warning] lambda_l2 is set=250, reg_lambda=0.0 will be ignored. Current value: lambda_l2=250\n",
      "[LightGBM] [Warning] lambda_l2 is set=250, reg_lambda=0.0 will be ignored. Current value: lambda_l2=250\n",
      "[LightGBM] [Warning] lambda_l2 is set=250, reg_lambda=0.0 will be ignored. Current value: lambda_l2=250\n",
      "[LightGBM] [Warning] lambda_l2 is set=250, reg_lambda=0.0 will be ignored. Current value: lambda_l2=250\n",
      "[LightGBM] [Warning] lambda_l2 is set=250, reg_lambda=0.0 will be ignored. Current value: lambda_l2=250\n",
      "[LightGBM] [Warning] lambda_l2 is set=250, reg_lambda=0.0 will be ignored. Current value: lambda_l2=250\n",
      "[LightGBM] [Warning] lambda_l2 is set=250, reg_lambda=0.0 will be ignored. Current value: lambda_l2=250\n",
      "[LightGBM] [Warning] lambda_l2 is set=250, reg_lambda=0.0 will be ignored. Current value: lambda_l2=250\n",
      "[LightGBM] [Warning] lambda_l2 is set=250, reg_lambda=0.0 will be ignored. Current value: lambda_l2=250\n",
      "[LightGBM] [Warning] lambda_l2 is set=250, reg_lambda=0.0 will be ignored. Current value: lambda_l2=250\n",
      "[LightGBM] [Warning] lambda_l2 is set=250, reg_lambda=0.0 will be ignored. Current value: lambda_l2=250\n",
      "[LightGBM] [Warning] lambda_l2 is set=250, reg_lambda=0.0 will be ignored. Current value: lambda_l2=250\n",
      "[LightGBM] [Warning] lambda_l2 is set=250, reg_lambda=0.0 will be ignored. Current value: lambda_l2=250\n",
      "[LightGBM] [Warning] lambda_l2 is set=250, reg_lambda=0.0 will be ignored. Current value: lambda_l2=250\n",
      "[LightGBM] [Warning] lambda_l2 is set=250, reg_lambda=0.0 will be ignored. Current value: lambda_l2=250\n",
      "[LightGBM] [Warning] lambda_l2 is set=250, reg_lambda=0.0 will be ignored. Current value: lambda_l2=250\n",
      "[LightGBM] [Warning] lambda_l2 is set=250, reg_lambda=0.0 will be ignored. Current value: lambda_l2=250\n",
      "[LightGBM] [Warning] lambda_l2 is set=250, reg_lambda=0.0 will be ignored. Current value: lambda_l2=250\n",
      "[LightGBM] [Warning] lambda_l2 is set=250, reg_lambda=0.0 will be ignored. Current value: lambda_l2=250\n",
      "[LightGBM] [Warning] lambda_l2 is set=250, reg_lambda=0.0 will be ignored. Current value: lambda_l2=250\n",
      "[LightGBM] [Warning] lambda_l2 is set=250, reg_lambda=0.0 will be ignored. Current value: lambda_l2=250\n",
      "[LightGBM] [Warning] lambda_l2 is set=250, reg_lambda=0.0 will be ignored. Current value: lambda_l2=250\n",
      "[LightGBM] [Warning] lambda_l2 is set=250, reg_lambda=0.0 will be ignored. Current value: lambda_l2=250\n",
      "[LightGBM] [Warning] lambda_l2 is set=250, reg_lambda=0.0 will be ignored. Current value: lambda_l2=250\n",
      "[LightGBM] [Warning] lambda_l2 is set=250, reg_lambda=0.0 will be ignored. Current value: lambda_l2=250\n",
      "[LightGBM] [Warning] lambda_l2 is set=250, reg_lambda=0.0 will be ignored. Current value: lambda_l2=250\n",
      "[LightGBM] [Warning] lambda_l2 is set=250, reg_lambda=0.0 will be ignored. Current value: lambda_l2=250\n",
      "[LightGBM] [Warning] lambda_l2 is set=250, reg_lambda=0.0 will be ignored. Current value: lambda_l2=250\n",
      "[LightGBM] [Warning] lambda_l2 is set=300, reg_lambda=0.0 will be ignored. Current value: lambda_l2=300\n",
      "[LightGBM] [Warning] lambda_l2 is set=300, reg_lambda=0.0 will be ignored. Current value: lambda_l2=300\n",
      "[LightGBM] [Warning] lambda_l2 is set=300, reg_lambda=0.0 will be ignored. Current value: lambda_l2=300\n",
      "[LightGBM] [Warning] lambda_l2 is set=300, reg_lambda=0.0 will be ignored. Current value: lambda_l2=300\n",
      "[LightGBM] [Warning] lambda_l2 is set=300, reg_lambda=0.0 will be ignored. Current value: lambda_l2=300\n",
      "[LightGBM] [Warning] lambda_l2 is set=300, reg_lambda=0.0 will be ignored. Current value: lambda_l2=300\n",
      "[LightGBM] [Warning] lambda_l2 is set=300, reg_lambda=0.0 will be ignored. Current value: lambda_l2=300\n",
      "[LightGBM] [Warning] lambda_l2 is set=300, reg_lambda=0.0 will be ignored. Current value: lambda_l2=300\n",
      "[LightGBM] [Warning] lambda_l2 is set=300, reg_lambda=0.0 will be ignored. Current value: lambda_l2=300\n",
      "[LightGBM] [Warning] lambda_l2 is set=300, reg_lambda=0.0 will be ignored. Current value: lambda_l2=300\n",
      "[LightGBM] [Warning] lambda_l2 is set=300, reg_lambda=0.0 will be ignored. Current value: lambda_l2=300\n",
      "[LightGBM] [Warning] lambda_l2 is set=300, reg_lambda=0.0 will be ignored. Current value: lambda_l2=300\n",
      "[LightGBM] [Warning] lambda_l2 is set=300, reg_lambda=0.0 will be ignored. Current value: lambda_l2=300\n",
      "[LightGBM] [Warning] lambda_l2 is set=300, reg_lambda=0.0 will be ignored. Current value: lambda_l2=300\n",
      "[LightGBM] [Warning] lambda_l2 is set=300, reg_lambda=0.0 will be ignored. Current value: lambda_l2=300\n",
      "[LightGBM] [Warning] lambda_l2 is set=300, reg_lambda=0.0 will be ignored. Current value: lambda_l2=300\n",
      "[LightGBM] [Warning] lambda_l2 is set=300, reg_lambda=0.0 will be ignored. Current value: lambda_l2=300\n",
      "[LightGBM] [Warning] lambda_l2 is set=300, reg_lambda=0.0 will be ignored. Current value: lambda_l2=300\n",
      "[LightGBM] [Warning] lambda_l2 is set=300, reg_lambda=0.0 will be ignored. Current value: lambda_l2=300\n",
      "[LightGBM] [Warning] lambda_l2 is set=300, reg_lambda=0.0 will be ignored. Current value: lambda_l2=300\n",
      "[LightGBM] [Warning] lambda_l2 is set=300, reg_lambda=0.0 will be ignored. Current value: lambda_l2=300\n",
      "[LightGBM] [Warning] lambda_l2 is set=300, reg_lambda=0.0 will be ignored. Current value: lambda_l2=300\n",
      "[LightGBM] [Warning] lambda_l2 is set=300, reg_lambda=0.0 will be ignored. Current value: lambda_l2=300\n",
      "[LightGBM] [Warning] lambda_l2 is set=300, reg_lambda=0.0 will be ignored. Current value: lambda_l2=300\n",
      "[LightGBM] [Warning] lambda_l2 is set=300, reg_lambda=0.0 will be ignored. Current value: lambda_l2=300\n",
      "[LightGBM] [Warning] lambda_l2 is set=300, reg_lambda=0.0 will be ignored. Current value: lambda_l2=300\n",
      "[LightGBM] [Warning] lambda_l2 is set=300, reg_lambda=0.0 will be ignored. Current value: lambda_l2=300\n",
      "[LightGBM] [Warning] lambda_l2 is set=300, reg_lambda=0.0 will be ignored. Current value: lambda_l2=300\n",
      "[LightGBM] [Warning] lambda_l2 is set=300, reg_lambda=0.0 will be ignored. Current value: lambda_l2=300\n",
      "[LightGBM] [Warning] lambda_l2 is set=300, reg_lambda=0.0 will be ignored. Current value: lambda_l2=300\n",
      "[LightGBM] [Warning] lambda_l2 is set=300, reg_lambda=0.0 will be ignored. Current value: lambda_l2=300\n",
      "[LightGBM] [Warning] lambda_l2 is set=300, reg_lambda=0.0 will be ignored. Current value: lambda_l2=300\n",
      "[LightGBM] [Warning] lambda_l2 is set=300, reg_lambda=0.0 will be ignored. Current value: lambda_l2=300\n",
      "[LightGBM] [Warning] lambda_l2 is set=300, reg_lambda=0.0 will be ignored. Current value: lambda_l2=300\n",
      "[LightGBM] [Warning] lambda_l2 is set=300, reg_lambda=0.0 will be ignored. Current value: lambda_l2=300\n",
      "[LightGBM] [Warning] lambda_l2 is set=300, reg_lambda=0.0 will be ignored. Current value: lambda_l2=300\n",
      "[LightGBM] [Warning] lambda_l2 is set=300, reg_lambda=0.0 will be ignored. Current value: lambda_l2=300\n",
      "[LightGBM] [Warning] lambda_l2 is set=300, reg_lambda=0.0 will be ignored. Current value: lambda_l2=300\n",
      "[LightGBM] [Warning] lambda_l2 is set=300, reg_lambda=0.0 will be ignored. Current value: lambda_l2=300\n",
      "[LightGBM] [Warning] lambda_l2 is set=300, reg_lambda=0.0 will be ignored. Current value: lambda_l2=300\n",
      "[LightGBM] [Warning] lambda_l2 is set=300, reg_lambda=0.0 will be ignored. Current value: lambda_l2=300\n",
      "[LightGBM] [Warning] lambda_l2 is set=300, reg_lambda=0.0 will be ignored. Current value: lambda_l2=300\n",
      "[LightGBM] [Warning] lambda_l2 is set=300, reg_lambda=0.0 will be ignored. Current value: lambda_l2=300\n",
      "[LightGBM] [Warning] lambda_l2 is set=300, reg_lambda=0.0 will be ignored. Current value: lambda_l2=300\n",
      "[LightGBM] [Warning] lambda_l2 is set=300, reg_lambda=0.0 will be ignored. Current value: lambda_l2=300\n",
      "[LightGBM] [Warning] lambda_l2 is set=300, reg_lambda=0.0 will be ignored. Current value: lambda_l2=300\n",
      "[LightGBM] [Warning] lambda_l2 is set=300, reg_lambda=0.0 will be ignored. Current value: lambda_l2=300\n",
      "[LightGBM] [Warning] lambda_l2 is set=300, reg_lambda=0.0 will be ignored. Current value: lambda_l2=300\n",
      "[LightGBM] [Warning] lambda_l2 is set=300, reg_lambda=0.0 will be ignored. Current value: lambda_l2=300\n",
      "[LightGBM] [Warning] lambda_l2 is set=300, reg_lambda=0.0 will be ignored. Current value: lambda_l2=300\n",
      "[LightGBM] [Warning] lambda_l2 is set=300, reg_lambda=0.0 will be ignored. Current value: lambda_l2=300\n",
      "[LightGBM] [Warning] lambda_l2 is set=300, reg_lambda=0.0 will be ignored. Current value: lambda_l2=300\n",
      "[LightGBM] [Warning] lambda_l2 is set=300, reg_lambda=0.0 will be ignored. Current value: lambda_l2=300\n",
      "[LightGBM] [Warning] lambda_l2 is set=300, reg_lambda=0.0 will be ignored. Current value: lambda_l2=300\n",
      "[LightGBM] [Warning] lambda_l2 is set=300, reg_lambda=0.0 will be ignored. Current value: lambda_l2=300\n",
      "[LightGBM] [Warning] lambda_l2 is set=300, reg_lambda=0.0 will be ignored. Current value: lambda_l2=300\n",
      "[LightGBM] [Warning] lambda_l2 is set=300, reg_lambda=0.0 will be ignored. Current value: lambda_l2=300\n",
      "[LightGBM] [Warning] lambda_l2 is set=300, reg_lambda=0.0 will be ignored. Current value: lambda_l2=300\n",
      "[LightGBM] [Warning] lambda_l2 is set=300, reg_lambda=0.0 will be ignored. Current value: lambda_l2=300\n",
      "[LightGBM] [Warning] lambda_l2 is set=300, reg_lambda=0.0 will be ignored. Current value: lambda_l2=300\n",
      "[LightGBM] [Warning] lambda_l2 is set=300, reg_lambda=0.0 will be ignored. Current value: lambda_l2=300\n",
      "[LightGBM] [Warning] lambda_l2 is set=300, reg_lambda=0.0 will be ignored. Current value: lambda_l2=300\n",
      "[LightGBM] [Warning] lambda_l2 is set=300, reg_lambda=0.0 will be ignored. Current value: lambda_l2=300\n",
      "[LightGBM] [Warning] lambda_l2 is set=300, reg_lambda=0.0 will be ignored. Current value: lambda_l2=300\n",
      "[LightGBM] [Warning] lambda_l2 is set=300, reg_lambda=0.0 will be ignored. Current value: lambda_l2=300\n",
      "[LightGBM] [Warning] lambda_l2 is set=300, reg_lambda=0.0 will be ignored. Current value: lambda_l2=300\n",
      "[LightGBM] [Warning] lambda_l2 is set=300, reg_lambda=0.0 will be ignored. Current value: lambda_l2=300\n",
      "[LightGBM] [Warning] lambda_l2 is set=300, reg_lambda=0.0 will be ignored. Current value: lambda_l2=300\n",
      "[LightGBM] [Warning] lambda_l2 is set=300, reg_lambda=0.0 will be ignored. Current value: lambda_l2=300\n",
      "[LightGBM] [Warning] lambda_l2 is set=300, reg_lambda=0.0 will be ignored. Current value: lambda_l2=300\n",
      "[LightGBM] [Warning] lambda_l2 is set=300, reg_lambda=0.0 will be ignored. Current value: lambda_l2=300\n",
      "[LightGBM] [Warning] lambda_l2 is set=300, reg_lambda=0.0 will be ignored. Current value: lambda_l2=300\n",
      "[LightGBM] [Warning] lambda_l2 is set=300, reg_lambda=0.0 will be ignored. Current value: lambda_l2=300\n",
      "[LightGBM] [Warning] lambda_l2 is set=300, reg_lambda=0.0 will be ignored. Current value: lambda_l2=300\n",
      "[LightGBM] [Warning] lambda_l2 is set=300, reg_lambda=0.0 will be ignored. Current value: lambda_l2=300\n",
      "[LightGBM] [Warning] lambda_l2 is set=300, reg_lambda=0.0 will be ignored. Current value: lambda_l2=300\n",
      "[LightGBM] [Warning] lambda_l2 is set=300, reg_lambda=0.0 will be ignored. Current value: lambda_l2=300\n",
      "[LightGBM] [Warning] lambda_l2 is set=300, reg_lambda=0.0 will be ignored. Current value: lambda_l2=300\n",
      "[LightGBM] [Warning] lambda_l2 is set=300, reg_lambda=0.0 will be ignored. Current value: lambda_l2=300\n",
      "[LightGBM] [Warning] lambda_l2 is set=300, reg_lambda=0.0 will be ignored. Current value: lambda_l2=300\n",
      "[LightGBM] [Warning] lambda_l2 is set=300, reg_lambda=0.0 will be ignored. Current value: lambda_l2=300\n",
      "[LightGBM] [Warning] lambda_l2 is set=300, reg_lambda=0.0 will be ignored. Current value: lambda_l2=300\n",
      "[LightGBM] [Warning] lambda_l2 is set=300, reg_lambda=0.0 will be ignored. Current value: lambda_l2=300\n",
      "[LightGBM] [Warning] lambda_l2 is set=300, reg_lambda=0.0 will be ignored. Current value: lambda_l2=300\n",
      "[LightGBM] [Warning] lambda_l2 is set=300, reg_lambda=0.0 will be ignored. Current value: lambda_l2=300\n",
      "[LightGBM] [Warning] lambda_l2 is set=300, reg_lambda=0.0 will be ignored. Current value: lambda_l2=300\n",
      "[LightGBM] [Warning] lambda_l2 is set=300, reg_lambda=0.0 will be ignored. Current value: lambda_l2=300\n",
      "[LightGBM] [Warning] lambda_l2 is set=300, reg_lambda=0.0 will be ignored. Current value: lambda_l2=300\n",
      "[LightGBM] [Warning] lambda_l2 is set=300, reg_lambda=0.0 will be ignored. Current value: lambda_l2=300\n",
      "[LightGBM] [Warning] lambda_l2 is set=300, reg_lambda=0.0 will be ignored. Current value: lambda_l2=300\n",
      "[LightGBM] [Warning] lambda_l2 is set=300, reg_lambda=0.0 will be ignored. Current value: lambda_l2=300\n",
      "[LightGBM] [Warning] lambda_l2 is set=300, reg_lambda=0.0 will be ignored. Current value: lambda_l2=300\n",
      "[LightGBM] [Warning] lambda_l2 is set=300, reg_lambda=0.0 will be ignored. Current value: lambda_l2=300\n",
      "[LightGBM] [Warning] lambda_l2 is set=300, reg_lambda=0.0 will be ignored. Current value: lambda_l2=300\n",
      "[LightGBM] [Warning] lambda_l2 is set=300, reg_lambda=0.0 will be ignored. Current value: lambda_l2=300\n",
      "[LightGBM] [Warning] lambda_l2 is set=300, reg_lambda=0.0 will be ignored. Current value: lambda_l2=300\n",
      "[LightGBM] [Warning] lambda_l2 is set=300, reg_lambda=0.0 will be ignored. Current value: lambda_l2=300\n",
      "[LightGBM] [Warning] lambda_l2 is set=300, reg_lambda=0.0 will be ignored. Current value: lambda_l2=300\n",
      "[LightGBM] [Warning] lambda_l2 is set=300, reg_lambda=0.0 will be ignored. Current value: lambda_l2=300\n",
      "[LightGBM] [Warning] lambda_l2 is set=300, reg_lambda=0.0 will be ignored. Current value: lambda_l2=300\n",
      "[LightGBM] [Warning] lambda_l2 is set=300, reg_lambda=0.0 will be ignored. Current value: lambda_l2=300\n",
      "[LightGBM] [Warning] lambda_l2 is set=300, reg_lambda=0.0 will be ignored. Current value: lambda_l2=300\n",
      "[LightGBM] [Warning] lambda_l2 is set=300, reg_lambda=0.0 will be ignored. Current value: lambda_l2=300\n",
      "[LightGBM] [Warning] lambda_l2 is set=300, reg_lambda=0.0 will be ignored. Current value: lambda_l2=300\n",
      "[LightGBM] [Warning] lambda_l2 is set=300, reg_lambda=0.0 will be ignored. Current value: lambda_l2=300\n",
      "[LightGBM] [Warning] lambda_l2 is set=300, reg_lambda=0.0 will be ignored. Current value: lambda_l2=300\n",
      "[LightGBM] [Warning] lambda_l2 is set=300, reg_lambda=0.0 will be ignored. Current value: lambda_l2=300\n",
      "[LightGBM] [Warning] lambda_l2 is set=300, reg_lambda=0.0 will be ignored. Current value: lambda_l2=300\n",
      "[LightGBM] [Warning] lambda_l2 is set=300, reg_lambda=0.0 will be ignored. Current value: lambda_l2=300\n",
      "[LightGBM] [Warning] lambda_l2 is set=300, reg_lambda=0.0 will be ignored. Current value: lambda_l2=300\n",
      "[LightGBM] [Warning] lambda_l2 is set=300, reg_lambda=0.0 will be ignored. Current value: lambda_l2=300\n",
      "[LightGBM] [Warning] lambda_l2 is set=300, reg_lambda=0.0 will be ignored. Current value: lambda_l2=300\n",
      "[LightGBM] [Warning] lambda_l2 is set=300, reg_lambda=0.0 will be ignored. Current value: lambda_l2=300\n",
      "[LightGBM] [Warning] lambda_l2 is set=300, reg_lambda=0.0 will be ignored. Current value: lambda_l2=300\n",
      "[LightGBM] [Warning] lambda_l2 is set=300, reg_lambda=0.0 will be ignored. Current value: lambda_l2=300\n",
      "[LightGBM] [Warning] lambda_l2 is set=300, reg_lambda=0.0 will be ignored. Current value: lambda_l2=300\n",
      "[LightGBM] [Warning] lambda_l2 is set=300, reg_lambda=0.0 will be ignored. Current value: lambda_l2=300\n",
      "[LightGBM] [Warning] lambda_l2 is set=300, reg_lambda=0.0 will be ignored. Current value: lambda_l2=300\n",
      "[LightGBM] [Warning] lambda_l2 is set=300, reg_lambda=0.0 will be ignored. Current value: lambda_l2=300\n",
      "[LightGBM] [Warning] lambda_l2 is set=300, reg_lambda=0.0 will be ignored. Current value: lambda_l2=300\n",
      "[LightGBM] [Warning] lambda_l2 is set=300, reg_lambda=0.0 will be ignored. Current value: lambda_l2=300\n",
      "[LightGBM] [Warning] lambda_l2 is set=300, reg_lambda=0.0 will be ignored. Current value: lambda_l2=300\n",
      "[LightGBM] [Warning] lambda_l2 is set=300, reg_lambda=0.0 will be ignored. Current value: lambda_l2=300\n",
      "[LightGBM] [Warning] lambda_l2 is set=300, reg_lambda=0.0 will be ignored. Current value: lambda_l2=300\n",
      "[LightGBM] [Warning] lambda_l2 is set=300, reg_lambda=0.0 will be ignored. Current value: lambda_l2=300\n",
      "[LightGBM] [Warning] lambda_l2 is set=300, reg_lambda=0.0 will be ignored. Current value: lambda_l2=300\n",
      "[LightGBM] [Warning] lambda_l2 is set=300, reg_lambda=0.0 will be ignored. Current value: lambda_l2=300\n",
      "[LightGBM] [Warning] lambda_l2 is set=300, reg_lambda=0.0 will be ignored. Current value: lambda_l2=300\n",
      "[LightGBM] [Warning] lambda_l2 is set=300, reg_lambda=0.0 will be ignored. Current value: lambda_l2=300\n",
      "[LightGBM] [Warning] lambda_l2 is set=300, reg_lambda=0.0 will be ignored. Current value: lambda_l2=300\n",
      "[LightGBM] [Warning] lambda_l2 is set=300, reg_lambda=0.0 will be ignored. Current value: lambda_l2=300\n",
      "[LightGBM] [Warning] lambda_l2 is set=300, reg_lambda=0.0 will be ignored. Current value: lambda_l2=300\n",
      "[LightGBM] [Warning] lambda_l2 is set=300, reg_lambda=0.0 will be ignored. Current value: lambda_l2=300\n",
      "[LightGBM] [Warning] lambda_l2 is set=300, reg_lambda=0.0 will be ignored. Current value: lambda_l2=300\n",
      "[LightGBM] [Warning] lambda_l2 is set=300, reg_lambda=0.0 will be ignored. Current value: lambda_l2=300\n",
      "[LightGBM] [Warning] lambda_l2 is set=300, reg_lambda=0.0 will be ignored. Current value: lambda_l2=300\n",
      "[LightGBM] [Warning] lambda_l2 is set=300, reg_lambda=0.0 will be ignored. Current value: lambda_l2=300\n",
      "[LightGBM] [Warning] lambda_l2 is set=300, reg_lambda=0.0 will be ignored. Current value: lambda_l2=300\n",
      "[LightGBM] [Warning] lambda_l2 is set=300, reg_lambda=0.0 will be ignored. Current value: lambda_l2=300\n",
      "[LightGBM] [Warning] lambda_l2 is set=300, reg_lambda=0.0 will be ignored. Current value: lambda_l2=300\n",
      "[LightGBM] [Warning] lambda_l2 is set=300, reg_lambda=0.0 will be ignored. Current value: lambda_l2=300\n",
      "[LightGBM] [Warning] lambda_l2 is set=300, reg_lambda=0.0 will be ignored. Current value: lambda_l2=300\n",
      "[LightGBM] [Warning] lambda_l2 is set=300, reg_lambda=0.0 will be ignored. Current value: lambda_l2=300\n",
      "[LightGBM] [Warning] lambda_l2 is set=300, reg_lambda=0.0 will be ignored. Current value: lambda_l2=300\n",
      "[LightGBM] [Warning] lambda_l2 is set=300, reg_lambda=0.0 will be ignored. Current value: lambda_l2=300\n",
      "[LightGBM] [Warning] lambda_l2 is set=300, reg_lambda=0.0 will be ignored. Current value: lambda_l2=300\n",
      "[LightGBM] [Warning] lambda_l2 is set=300, reg_lambda=0.0 will be ignored. Current value: lambda_l2=300\n",
      "[LightGBM] [Warning] lambda_l2 is set=300, reg_lambda=0.0 will be ignored. Current value: lambda_l2=300\n",
      "[LightGBM] [Warning] lambda_l2 is set=300, reg_lambda=0.0 will be ignored. Current value: lambda_l2=300\n",
      "[LightGBM] [Warning] lambda_l2 is set=300, reg_lambda=0.0 will be ignored. Current value: lambda_l2=300\n",
      "[LightGBM] [Warning] lambda_l2 is set=300, reg_lambda=0.0 will be ignored. Current value: lambda_l2=300\n",
      "[LightGBM] [Warning] lambda_l2 is set=300, reg_lambda=0.0 will be ignored. Current value: lambda_l2=300\n",
      "[LightGBM] [Warning] lambda_l2 is set=300, reg_lambda=0.0 will be ignored. Current value: lambda_l2=300\n",
      "[LightGBM] [Warning] lambda_l2 is set=300, reg_lambda=0.0 will be ignored. Current value: lambda_l2=300\n",
      "[LightGBM] [Warning] lambda_l2 is set=300, reg_lambda=0.0 will be ignored. Current value: lambda_l2=300\n",
      "[LightGBM] [Warning] lambda_l2 is set=300, reg_lambda=0.0 will be ignored. Current value: lambda_l2=300\n",
      "[LightGBM] [Warning] lambda_l2 is set=300, reg_lambda=0.0 will be ignored. Current value: lambda_l2=300\n",
      "[LightGBM] [Warning] lambda_l2 is set=300, reg_lambda=0.0 will be ignored. Current value: lambda_l2=300\n",
      "[LightGBM] [Warning] lambda_l2 is set=300, reg_lambda=0.0 will be ignored. Current value: lambda_l2=300\n",
      "[LightGBM] [Warning] lambda_l2 is set=300, reg_lambda=0.0 will be ignored. Current value: lambda_l2=300\n",
      "[LightGBM] [Warning] lambda_l2 is set=300, reg_lambda=0.0 will be ignored. Current value: lambda_l2=300\n",
      "[LightGBM] [Warning] lambda_l2 is set=300, reg_lambda=0.0 will be ignored. Current value: lambda_l2=300\n",
      "[LightGBM] [Warning] lambda_l2 is set=300, reg_lambda=0.0 will be ignored. Current value: lambda_l2=300\n",
      "[LightGBM] [Warning] lambda_l2 is set=300, reg_lambda=0.0 will be ignored. Current value: lambda_l2=300\n",
      "[LightGBM] [Warning] lambda_l2 is set=300, reg_lambda=0.0 will be ignored. Current value: lambda_l2=300\n",
      "[LightGBM] [Warning] lambda_l2 is set=300, reg_lambda=0.0 will be ignored. Current value: lambda_l2=300\n",
      "[LightGBM] [Warning] lambda_l2 is set=300, reg_lambda=0.0 will be ignored. Current value: lambda_l2=300\n",
      "[LightGBM] [Warning] lambda_l2 is set=300, reg_lambda=0.0 will be ignored. Current value: lambda_l2=300\n",
      "[LightGBM] [Warning] lambda_l2 is set=300, reg_lambda=0.0 will be ignored. Current value: lambda_l2=300\n",
      "[LightGBM] [Warning] lambda_l2 is set=300, reg_lambda=0.0 will be ignored. Current value: lambda_l2=300\n",
      "[LightGBM] [Warning] lambda_l2 is set=300, reg_lambda=0.0 will be ignored. Current value: lambda_l2=300\n",
      "[LightGBM] [Warning] lambda_l2 is set=300, reg_lambda=0.0 will be ignored. Current value: lambda_l2=300\n",
      "[LightGBM] [Warning] lambda_l2 is set=300, reg_lambda=0.0 will be ignored. Current value: lambda_l2=300\n",
      "[LightGBM] [Warning] lambda_l2 is set=300, reg_lambda=0.0 will be ignored. Current value: lambda_l2=300\n",
      "[LightGBM] [Warning] lambda_l2 is set=300, reg_lambda=0.0 will be ignored. Current value: lambda_l2=300\n",
      "[LightGBM] [Warning] lambda_l2 is set=300, reg_lambda=0.0 will be ignored. Current value: lambda_l2=300\n",
      "[LightGBM] [Warning] lambda_l2 is set=300, reg_lambda=0.0 will be ignored. Current value: lambda_l2=300\n",
      "[LightGBM] [Warning] lambda_l2 is set=300, reg_lambda=0.0 will be ignored. Current value: lambda_l2=300\n",
      "[LightGBM] [Warning] lambda_l2 is set=300, reg_lambda=0.0 will be ignored. Current value: lambda_l2=300\n",
      "[LightGBM] [Warning] lambda_l2 is set=300, reg_lambda=0.0 will be ignored. Current value: lambda_l2=300\n",
      "[LightGBM] [Warning] lambda_l2 is set=300, reg_lambda=0.0 will be ignored. Current value: lambda_l2=300\n",
      "[LightGBM] [Warning] lambda_l2 is set=300, reg_lambda=0.0 will be ignored. Current value: lambda_l2=300\n",
      "[LightGBM] [Warning] lambda_l2 is set=300, reg_lambda=0.0 will be ignored. Current value: lambda_l2=300\n",
      "[LightGBM] [Warning] lambda_l2 is set=300, reg_lambda=0.0 will be ignored. Current value: lambda_l2=300\n",
      "[LightGBM] [Warning] lambda_l2 is set=300, reg_lambda=0.0 will be ignored. Current value: lambda_l2=300\n",
      "[LightGBM] [Warning] lambda_l2 is set=300, reg_lambda=0.0 will be ignored. Current value: lambda_l2=300\n",
      "[LightGBM] [Warning] lambda_l2 is set=300, reg_lambda=0.0 will be ignored. Current value: lambda_l2=300\n",
      "[LightGBM] [Warning] lambda_l2 is set=300, reg_lambda=0.0 will be ignored. Current value: lambda_l2=300\n",
      "[LightGBM] [Warning] lambda_l2 is set=300, reg_lambda=0.0 will be ignored. Current value: lambda_l2=300\n",
      "[LightGBM] [Warning] lambda_l2 is set=300, reg_lambda=0.0 will be ignored. Current value: lambda_l2=300\n",
      "[LightGBM] [Warning] lambda_l2 is set=300, reg_lambda=0.0 will be ignored. Current value: lambda_l2=300\n",
      "[LightGBM] [Warning] lambda_l2 is set=300, reg_lambda=0.0 will be ignored. Current value: lambda_l2=300\n",
      "[LightGBM] [Warning] lambda_l2 is set=300, reg_lambda=0.0 will be ignored. Current value: lambda_l2=300\n",
      "[LightGBM] [Warning] lambda_l2 is set=300, reg_lambda=0.0 will be ignored. Current value: lambda_l2=300\n",
      "[LightGBM] [Warning] lambda_l2 is set=300, reg_lambda=0.0 will be ignored. Current value: lambda_l2=300\n",
      "[LightGBM] [Warning] lambda_l2 is set=300, reg_lambda=0.0 will be ignored. Current value: lambda_l2=300\n",
      "[LightGBM] [Warning] lambda_l2 is set=300, reg_lambda=0.0 will be ignored. Current value: lambda_l2=300\n",
      "[LightGBM] [Warning] lambda_l2 is set=300, reg_lambda=0.0 will be ignored. Current value: lambda_l2=300\n",
      "[LightGBM] [Warning] lambda_l2 is set=300, reg_lambda=0.0 will be ignored. Current value: lambda_l2=300\n",
      "[LightGBM] [Warning] lambda_l2 is set=300, reg_lambda=0.0 will be ignored. Current value: lambda_l2=300\n",
      "[LightGBM] [Warning] lambda_l2 is set=300, reg_lambda=0.0 will be ignored. Current value: lambda_l2=300\n",
      "[LightGBM] [Warning] lambda_l2 is set=300, reg_lambda=0.0 will be ignored. Current value: lambda_l2=300\n",
      "[LightGBM] [Warning] lambda_l2 is set=300, reg_lambda=0.0 will be ignored. Current value: lambda_l2=300\n",
      "[LightGBM] [Warning] lambda_l2 is set=300, reg_lambda=0.0 will be ignored. Current value: lambda_l2=300\n",
      "[LightGBM] [Warning] lambda_l2 is set=300, reg_lambda=0.0 will be ignored. Current value: lambda_l2=300\n",
      "[LightGBM] [Warning] lambda_l2 is set=300, reg_lambda=0.0 will be ignored. Current value: lambda_l2=300\n",
      "[LightGBM] [Warning] lambda_l2 is set=300, reg_lambda=0.0 will be ignored. Current value: lambda_l2=300\n",
      "[LightGBM] [Warning] lambda_l2 is set=300, reg_lambda=0.0 will be ignored. Current value: lambda_l2=300\n",
      "[LightGBM] [Warning] lambda_l2 is set=300, reg_lambda=0.0 will be ignored. Current value: lambda_l2=300\n",
      "[LightGBM] [Warning] lambda_l2 is set=300, reg_lambda=0.0 will be ignored. Current value: lambda_l2=300\n",
      "[LightGBM] [Warning] lambda_l2 is set=300, reg_lambda=0.0 will be ignored. Current value: lambda_l2=300\n",
      "[LightGBM] [Warning] lambda_l2 is set=300, reg_lambda=0.0 will be ignored. Current value: lambda_l2=300\n",
      "[LightGBM] [Warning] lambda_l2 is set=300, reg_lambda=0.0 will be ignored. Current value: lambda_l2=300\n",
      "[LightGBM] [Warning] lambda_l2 is set=300, reg_lambda=0.0 will be ignored. Current value: lambda_l2=300\n",
      "[LightGBM] [Warning] lambda_l2 is set=300, reg_lambda=0.0 will be ignored. Current value: lambda_l2=300\n",
      "[LightGBM] [Warning] lambda_l2 is set=300, reg_lambda=0.0 will be ignored. Current value: lambda_l2=300\n",
      "CPU times: user 2h 16min 26s, sys: 2min 55s, total: 2h 19min 22s\n",
      "Wall time: 11min 37s\n"
     ]
    },
    {
     "data": {
      "text/plain": [
       "{'classifier__lambda_l2': 200,\n",
       " 'classifier__learning_rate': 0.05,\n",
       " 'classifier__n_estimators': 1000,\n",
       " 'classifier__n_jobs': -1,\n",
       " 'classifier__num_leaves': 10}"
      ]
     },
     "execution_count": 77,
     "metadata": {},
     "output_type": "execute_result"
    }
   ],
   "source": [
    "%%time\n",
    "grid = GridSearchCV(classifier,\n",
    "                    param_grid=params,\n",
    "                    cv=6,\n",
    "                    refit=False)\n",
    "\n",
    "search = grid.fit(X_train, y_train)\n",
    "search.best_params_"
   ]
  },
  {
   "cell_type": "code",
   "execution_count": 78,
   "id": "framed-hundred",
   "metadata": {},
   "outputs": [
    {
     "name": "stdout",
     "output_type": "stream",
     "text": [
      "[LightGBM] [Warning] lambda_l2 is set=200, reg_lambda=0.0 will be ignored. Current value: lambda_l2=200\n",
      "[LightGBM] [Warning] lambda_l2 is set=200, reg_lambda=0.0 will be ignored. Current value: lambda_l2=200\n",
      "[LightGBM] [Warning] lambda_l2 is set=200, reg_lambda=0.0 will be ignored. Current value: lambda_l2=200\n",
      "[LightGBM] [Warning] lambda_l2 is set=200, reg_lambda=0.0 will be ignored. Current value: lambda_l2=200\n",
      "[LightGBM] [Warning] lambda_l2 is set=200, reg_lambda=0.0 will be ignored. Current value: lambda_l2=200\n",
      "[LightGBM] [Warning] lambda_l2 is set=200, reg_lambda=0.0 will be ignored. Current value: lambda_l2=200\n",
      "[LightGBM] [Warning] lambda_l2 is set=200, reg_lambda=0.0 will be ignored. Current value: lambda_l2=200\n",
      "[LightGBM] [Warning] lambda_l2 is set=200, reg_lambda=0.0 will be ignored. Current value: lambda_l2=200\n",
      "[LightGBM] [Warning] lambda_l2 is set=200, reg_lambda=0.0 will be ignored. Current value: lambda_l2=200\n",
      "[LightGBM] [Warning] lambda_l2 is set=200, reg_lambda=0.0 will be ignored. Current value: lambda_l2=200\n",
      "CV score is 0.8624188325395601+-0.016031493676789667\n",
      "[LightGBM] [Warning] lambda_l2 is set=200, reg_lambda=0.0 will be ignored. Current value: lambda_l2=200\n"
     ]
    }
   ],
   "source": [
    "classifier = Pipeline([\n",
    "    ('features',feats),\n",
    "    ('classifier', LGBMClassifier(random_state = 42, silent=True, lambda_l2=200,\n",
    "                                 learning_rate=0.05, n_estimators=1000, num_leaves=10, n_jobs=-1\n",
    "                                 )),\n",
    "])\n",
    "\n",
    "\n",
    "#запустим кросс-валидацию\n",
    "cv_scores = cross_val_score(classifier, X_train, y_train, cv=10, scoring='roc_auc')\n",
    "cv_score = np.mean(cv_scores)\n",
    "cv_score_std = np.std(cv_scores)\n",
    "print('CV score is {}+-{}'.format(cv_score, cv_score_std))\n",
    "\n",
    "#обучим пайплайн на всем тренировочном датасете\n",
    "classifier.fit(X_train, y_train)\n",
    "y_score = classifier.predict_proba(X_test)[:, 1]"
   ]
  },
  {
   "cell_type": "code",
   "execution_count": 79,
   "id": "meaningful-quantity",
   "metadata": {},
   "outputs": [
    {
     "name": "stdout",
     "output_type": "stream",
     "text": [
      "Best Threshold=0.418740, F-Score=0.641, Precision=0.668, Recall=0.617\n"
     ]
    }
   ],
   "source": [
    "precision, recall, thresholds = precision_recall_curve(y_test, y_score)\n",
    "\n",
    "\n",
    "fscore = (2 * precision * recall) / (precision + recall)\n",
    "# locate the index of the largest f score\n",
    "ix = np.argmax(fscore)\n",
    "print('Best Threshold=%f, F-Score=%.3f, Precision=%.3f, Recall=%.3f' % (thresholds[ix], \n",
    "                                                                        fscore[ix],\n",
    "                                                                        precision[ix],\n",
    "                                                                        recall[ix]))"
   ]
  },
  {
   "cell_type": "markdown",
   "id": "recent-istanbul",
   "metadata": {},
   "source": [
    "(опционально) Еще раз провести оценку экономической эффективности"
   ]
  },
  {
   "cell_type": "code",
   "execution_count": 80,
   "id": "organic-ranking",
   "metadata": {},
   "outputs": [
    {
     "name": "stdout",
     "output_type": "stream",
     "text": [
      "Confusion matrix, without normalization\n",
      "[[1835  156]\n",
      " [ 196  313]]\n"
     ]
    },
    {
     "data": {
      "image/png": "[encoded data removed]",
      "text/plain": [
       "<Figure size 720x576 with 2 Axes>"
      ]
     },
     "metadata": {
      "needs_background": "light"
     },
     "output_type": "display_data"
    }
   ],
   "source": [
    "cnf_matrix = confusion_matrix(y_test, y_score>thresholds[ix])\n",
    "plt.figure(figsize=(10, 8))\n",
    "plot_confusion_matrix(cnf_matrix, classes=['NonChurn', 'Churn'],\n",
    "                      title='Confusion matrix')\n",
    "plt.savefig(\"conf_matrix.png\")\n",
    "plt.show()"
   ]
  },
  {
   "cell_type": "code",
   "execution_count": 81,
   "id": "obvious-there",
   "metadata": {},
   "outputs": [],
   "source": [
    "TP = cnf_matrix[0][0]\n",
    "FP = cnf_matrix[0][1]\n",
    "FN = cnf_matrix[1][0]\n",
    "TN = cnf_matrix[1][1]"
   ]
  },
  {
   "cell_type": "code",
   "execution_count": 82,
   "id": "silent-smile",
   "metadata": {},
   "outputs": [
    {
     "name": "stdout",
     "output_type": "stream",
     "text": [
      "прибыль 3826\n",
      "убыток 705\n",
      "при привлечении прибыл равна 3121\n"
     ]
    }
   ],
   "source": [
    "print(f'прибыль {(2 * TP) + FP}') # Прибыль принесут TP и только на FP нужно будет тратиться на удержание\n",
    "print(f'убыток {TN + 2*(FN)}') # TN уйдут и так а на FN будут затраты на привлечение и они уйдут \n",
    "print(f'при привлечении прибыл равна {((2 * TP) + FP) - (TN + 2*(FN)) }')"
   ]
  }
 ],
 "metadata": {
  "kernelspec": {
   "display_name": "Python 3",
   "language": "python",
   "name": "python3"
  },
  "language_info": {
   "codemirror_mode": {
    "name": "ipython",
    "version": 3
   },
   "file_extension": ".py",
   "mimetype": "text/x-python",
   "name": "python",
   "nbconvert_exporter": "python",
   "pygments_lexer": "ipython3",
   "version": "3.8.8"
  }
 },
 "nbformat": 4,
 "nbformat_minor": 5
}
